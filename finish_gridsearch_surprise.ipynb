{
 "cells": [
  {
   "cell_type": "code",
   "execution_count": 1,
   "id": "309ab8fd",
   "metadata": {},
   "outputs": [],
   "source": [
    "import pandas as pd\n",
    "import numpy as np\n",
    "import sklearn\n",
    "import datetime\n",
    "from sklearn.model_selection import train_test_split\n",
    "import matplotlib.pyplot as plt\n",
    "import seaborn as sns\n",
    "import pyarrow.parquet as pq\n",
    "\n",
    "from surprise import Reader, SVD, Dataset, accuracy\n",
    "from surprise.model_selection import GridSearchCV, train_test_split, cross_validate\n",
    "from surprise import Reader, Dataset\n",
    "from surprise import KNNBaseline\n",
    "from surprise.model_selection import GridSearchCV\n",
    "\n",
    "from surprise import SVD, BaselineOnly, CoClustering\n",
    "\n",
    "from tqdm import tqdm\n",
    "import pickle\n",
    "import itertools"
   ]
  },
  {
   "cell_type": "code",
   "execution_count": 2,
   "id": "fa600256",
   "metadata": {},
   "outputs": [],
   "source": [
    "train_group = pd.read_pickle('train_group_add_cookie.pickle')"
   ]
  },
  {
   "cell_type": "code",
   "execution_count": 3,
   "id": "568eb918",
   "metadata": {},
   "outputs": [
    {
     "data": {
      "text/html": [
       "<div>\n",
       "<style scoped>\n",
       "    .dataframe tbody tr th:only-of-type {\n",
       "        vertical-align: middle;\n",
       "    }\n",
       "\n",
       "    .dataframe tbody tr th {\n",
       "        vertical-align: top;\n",
       "    }\n",
       "\n",
       "    .dataframe thead th {\n",
       "        text-align: right;\n",
       "    }\n",
       "</style>\n",
       "<table border=\"1\" class=\"dataframe\">\n",
       "  <thead>\n",
       "    <tr style=\"text-align: right;\">\n",
       "      <th></th>\n",
       "      <th>user_id</th>\n",
       "      <th>vacancy_id_</th>\n",
       "      <th>rating</th>\n",
       "    </tr>\n",
       "  </thead>\n",
       "  <tbody>\n",
       "    <tr>\n",
       "      <th>0</th>\n",
       "      <td>000089d26cdd49d68839c68bc10f2cf2</td>\n",
       "      <td>177380</td>\n",
       "      <td>1</td>\n",
       "    </tr>\n",
       "    <tr>\n",
       "      <th>1</th>\n",
       "      <td>000089d26cdd49d68839c68bc10f2cf2</td>\n",
       "      <td>181353</td>\n",
       "      <td>1</td>\n",
       "    </tr>\n",
       "    <tr>\n",
       "      <th>2</th>\n",
       "      <td>000089d26cdd49d68839c68bc10f2cf2</td>\n",
       "      <td>195890</td>\n",
       "      <td>1</td>\n",
       "    </tr>\n",
       "    <tr>\n",
       "      <th>3</th>\n",
       "      <td>000089d26cdd49d68839c68bc10f2cf2</td>\n",
       "      <td>205562</td>\n",
       "      <td>1</td>\n",
       "    </tr>\n",
       "    <tr>\n",
       "      <th>4</th>\n",
       "      <td>000089d26cdd49d68839c68bc10f2cf2</td>\n",
       "      <td>211064</td>\n",
       "      <td>1</td>\n",
       "    </tr>\n",
       "    <tr>\n",
       "      <th>...</th>\n",
       "      <td>...</td>\n",
       "      <td>...</td>\n",
       "      <td>...</td>\n",
       "    </tr>\n",
       "    <tr>\n",
       "      <th>4662685</th>\n",
       "      <td>ffffdb17f45b4032b386d691d52e6c00</td>\n",
       "      <td>107125</td>\n",
       "      <td>10</td>\n",
       "    </tr>\n",
       "    <tr>\n",
       "      <th>4662686</th>\n",
       "      <td>ffffdb17f45b4032b386d691d52e6c00</td>\n",
       "      <td>107893</td>\n",
       "      <td>10</td>\n",
       "    </tr>\n",
       "    <tr>\n",
       "      <th>4662687</th>\n",
       "      <td>ffffdb17f45b4032b386d691d52e6c00</td>\n",
       "      <td>150843</td>\n",
       "      <td>10</td>\n",
       "    </tr>\n",
       "    <tr>\n",
       "      <th>4662688</th>\n",
       "      <td>ffffdb17f45b4032b386d691d52e6c00</td>\n",
       "      <td>160164</td>\n",
       "      <td>10</td>\n",
       "    </tr>\n",
       "    <tr>\n",
       "      <th>4662689</th>\n",
       "      <td>ffffdb17f45b4032b386d691d52e6c00</td>\n",
       "      <td>185412</td>\n",
       "      <td>10</td>\n",
       "    </tr>\n",
       "  </tbody>\n",
       "</table>\n",
       "<p>4662690 rows × 3 columns</p>\n",
       "</div>"
      ],
      "text/plain": [
       "                                  user_id  vacancy_id_  rating\n",
       "0        000089d26cdd49d68839c68bc10f2cf2       177380       1\n",
       "1        000089d26cdd49d68839c68bc10f2cf2       181353       1\n",
       "2        000089d26cdd49d68839c68bc10f2cf2       195890       1\n",
       "3        000089d26cdd49d68839c68bc10f2cf2       205562       1\n",
       "4        000089d26cdd49d68839c68bc10f2cf2       211064       1\n",
       "...                                   ...          ...     ...\n",
       "4662685  ffffdb17f45b4032b386d691d52e6c00       107125      10\n",
       "4662686  ffffdb17f45b4032b386d691d52e6c00       107893      10\n",
       "4662687  ffffdb17f45b4032b386d691d52e6c00       150843      10\n",
       "4662688  ffffdb17f45b4032b386d691d52e6c00       160164      10\n",
       "4662689  ffffdb17f45b4032b386d691d52e6c00       185412      10\n",
       "\n",
       "[4662690 rows x 3 columns]"
      ]
     },
     "execution_count": 3,
     "metadata": {},
     "output_type": "execute_result"
    }
   ],
   "source": [
    "user_id=train_group.index.get_level_values(0)\n",
    "vacancy_id_=train_group.index.get_level_values(1)\n",
    "data = pd.DataFrame(list(zip( user_id, vacancy_id_, train_group['event_type'].to_list())), columns = ['user_id', 'vacancy_id_', 'rating'])\n",
    "\n",
    "data"
   ]
  },
  {
   "cell_type": "code",
   "execution_count": 26,
   "id": "da2af448",
   "metadata": {},
   "outputs": [
    {
     "name": "stderr",
     "output_type": "stream",
     "text": [
      "\r",
      "0it [00:00, ?it/s]"
     ]
    },
    {
     "name": "stdout",
     "output_type": "stream",
     "text": [
      "Estimating biases using als...\n",
      "MAE:  1.9671\n",
      "RMSE: 2.9026\n",
      "MAE:  1.8755\n"
     ]
    },
    {
     "name": "stderr",
     "output_type": "stream",
     "text": [
      "\r",
      "1it [01:44, 104.86s/it]"
     ]
    },
    {
     "name": "stdout",
     "output_type": "stream",
     "text": [
      "RMSE: 2.7677\n",
      "0 5000\n",
      "Estimating biases using als...\n",
      "MAE:  1.9701\n",
      "RMSE: 2.9090\n",
      "MAE:  1.8951\n"
     ]
    },
    {
     "name": "stderr",
     "output_type": "stream",
     "text": [
      "\r",
      "2it [03:33, 107.09s/it]"
     ]
    },
    {
     "name": "stdout",
     "output_type": "stream",
     "text": [
      "RMSE: 2.8014\n",
      "0 200\n",
      "Estimating biases using als...\n",
      "MAE:  1.9687\n",
      "RMSE: 2.9094\n",
      "MAE:  1.9004\n"
     ]
    },
    {
     "name": "stderr",
     "output_type": "stream",
     "text": [
      "\r",
      "3it [05:22, 107.90s/it]"
     ]
    },
    {
     "name": "stdout",
     "output_type": "stream",
     "text": [
      "RMSE: 2.8108\n",
      "0 150\n",
      "Estimating biases using als...\n",
      "MAE:  1.9624\n",
      "RMSE: 2.9023\n",
      "MAE:  1.9144\n"
     ]
    },
    {
     "name": "stderr",
     "output_type": "stream",
     "text": [
      "\r",
      "4it [07:11, 108.57s/it]"
     ]
    },
    {
     "name": "stdout",
     "output_type": "stream",
     "text": [
      "RMSE: 2.8314\n",
      "0 100\n",
      "Estimating biases using als...\n",
      "MAE:  1.9492\n",
      "RMSE: 2.8971\n",
      "MAE:  1.9546\n"
     ]
    },
    {
     "name": "stderr",
     "output_type": "stream",
     "text": [
      "\r",
      "5it [08:44, 102.76s/it]"
     ]
    },
    {
     "name": "stdout",
     "output_type": "stream",
     "text": [
      "RMSE: 2.8992\n",
      "0 50\n",
      "Estimating biases using als...\n",
      "MAE:  1.9390\n",
      "RMSE: 2.8922\n",
      "MAE:  1.9722\n"
     ]
    },
    {
     "name": "stderr",
     "output_type": "stream",
     "text": [
      "\r",
      "6it [10:17, 99.61s/it] "
     ]
    },
    {
     "name": "stdout",
     "output_type": "stream",
     "text": [
      "RMSE: 2.9323\n",
      "0 40\n",
      "Estimating biases using als...\n",
      "MAE:  1.9184\n",
      "RMSE: 2.8788\n",
      "MAE:  1.9949\n"
     ]
    },
    {
     "name": "stderr",
     "output_type": "stream",
     "text": [
      "\r",
      "7it [11:44, 95.22s/it]"
     ]
    },
    {
     "name": "stdout",
     "output_type": "stream",
     "text": [
      "RMSE: 2.9813\n",
      "0 30\n",
      "Estimating biases using als...\n",
      "MAE:  1.8803\n",
      "RMSE: 2.8632\n",
      "MAE:  2.0223\n"
     ]
    },
    {
     "name": "stderr",
     "output_type": "stream",
     "text": [
      "\r",
      "8it [13:05, 90.96s/it]"
     ]
    },
    {
     "name": "stdout",
     "output_type": "stream",
     "text": [
      "RMSE: 3.0564\n",
      "0 20\n",
      "Estimating biases using als...\n",
      "MAE:  1.7486\n",
      "RMSE: 2.7876\n",
      "MAE:  2.0320\n"
     ]
    },
    {
     "name": "stderr",
     "output_type": "stream",
     "text": [
      "\r",
      "9it [14:11, 83.08s/it]"
     ]
    },
    {
     "name": "stdout",
     "output_type": "stream",
     "text": [
      "RMSE: 3.1885\n",
      "0 10\n",
      "Estimating biases using als...\n",
      "MAE:  1.4094\n",
      "RMSE: 2.5088\n",
      "MAE:  1.9444\n"
     ]
    },
    {
     "name": "stderr",
     "output_type": "stream",
     "text": [
      "\r",
      "10it [15:00, 72.41s/it]"
     ]
    },
    {
     "name": "stdout",
     "output_type": "stream",
     "text": [
      "RMSE: 3.3069\n",
      "0 5\n",
      "Estimating biases using als...\n",
      "MAE:  1.9694\n",
      "RMSE: 2.9048\n",
      "MAE:  1.8755\n"
     ]
    },
    {
     "name": "stderr",
     "output_type": "stream",
     "text": [
      "\r",
      "11it [16:46, 82.70s/it]"
     ]
    },
    {
     "name": "stdout",
     "output_type": "stream",
     "text": [
      "RMSE: 2.7681\n",
      "5 5000\n",
      "Estimating biases using als...\n",
      "MAE:  1.9689\n",
      "RMSE: 2.9063\n",
      "MAE:  1.8954\n"
     ]
    },
    {
     "name": "stderr",
     "output_type": "stream",
     "text": [
      "\r",
      "12it [18:27, 88.36s/it]"
     ]
    },
    {
     "name": "stdout",
     "output_type": "stream",
     "text": [
      "RMSE: 2.8011\n",
      "5 200\n",
      "Estimating biases using als...\n",
      "MAE:  1.9668\n",
      "RMSE: 2.9069\n",
      "MAE:  1.9006\n"
     ]
    },
    {
     "name": "stderr",
     "output_type": "stream",
     "text": [
      "\r",
      "13it [20:12, 93.25s/it]"
     ]
    },
    {
     "name": "stdout",
     "output_type": "stream",
     "text": [
      "RMSE: 2.8108\n",
      "5 150\n",
      "Estimating biases using als...\n",
      "MAE:  1.9629\n",
      "RMSE: 2.9035\n",
      "MAE:  1.9140\n"
     ]
    },
    {
     "name": "stderr",
     "output_type": "stream",
     "text": [
      "\r",
      "14it [21:55, 96.20s/it]"
     ]
    },
    {
     "name": "stdout",
     "output_type": "stream",
     "text": [
      "RMSE: 2.8315\n",
      "5 100\n",
      "Estimating biases using als...\n",
      "MAE:  1.9482\n",
      "RMSE: 2.8949\n",
      "MAE:  1.9543\n"
     ]
    },
    {
     "name": "stderr",
     "output_type": "stream",
     "text": [
      "\r",
      "15it [23:30, 95.82s/it]"
     ]
    },
    {
     "name": "stdout",
     "output_type": "stream",
     "text": [
      "RMSE: 2.8989\n",
      "5 50\n",
      "Estimating biases using als...\n",
      "MAE:  1.9423\n",
      "RMSE: 2.8961\n",
      "MAE:  1.9719\n"
     ]
    },
    {
     "name": "stderr",
     "output_type": "stream",
     "text": [
      "\r",
      "16it [25:01, 94.62s/it]"
     ]
    },
    {
     "name": "stdout",
     "output_type": "stream",
     "text": [
      "RMSE: 2.9321\n",
      "5 40\n",
      "Estimating biases using als...\n",
      "MAE:  1.9228\n",
      "RMSE: 2.8897\n",
      "MAE:  1.9923\n"
     ]
    },
    {
     "name": "stderr",
     "output_type": "stream",
     "text": [
      "\r",
      "17it [26:25, 91.32s/it]"
     ]
    },
    {
     "name": "stdout",
     "output_type": "stream",
     "text": [
      "RMSE: 2.9811\n",
      "5 30\n",
      "Estimating biases using als...\n",
      "MAE:  1.8802\n",
      "RMSE: 2.8620\n",
      "MAE:  2.0222\n"
     ]
    },
    {
     "name": "stderr",
     "output_type": "stream",
     "text": [
      "\r",
      "18it [27:44, 87.58s/it]"
     ]
    },
    {
     "name": "stdout",
     "output_type": "stream",
     "text": [
      "RMSE: 3.0561\n",
      "5 20\n",
      "Estimating biases using als...\n",
      "MAE:  1.7503\n",
      "RMSE: 2.7916\n",
      "MAE:  2.0299\n"
     ]
    },
    {
     "name": "stderr",
     "output_type": "stream",
     "text": [
      "\r",
      "19it [28:42, 78.74s/it]"
     ]
    },
    {
     "name": "stdout",
     "output_type": "stream",
     "text": [
      "RMSE: 3.1896\n",
      "5 10\n",
      "Estimating biases using als...\n",
      "MAE:  1.4003\n",
      "RMSE: 2.5136\n",
      "MAE:  1.9337\n"
     ]
    },
    {
     "name": "stderr",
     "output_type": "stream",
     "text": [
      "\r",
      "20it [29:12, 64.11s/it]"
     ]
    },
    {
     "name": "stdout",
     "output_type": "stream",
     "text": [
      "RMSE: 3.3101\n",
      "5 5\n",
      "Estimating biases using als...\n",
      "MAE:  2.0368\n",
      "RMSE: 2.9472\n",
      "MAE:  1.9814\n"
     ]
    },
    {
     "name": "stderr",
     "output_type": "stream",
     "text": [
      "\r",
      "21it [30:16, 64.06s/it]"
     ]
    },
    {
     "name": "stdout",
     "output_type": "stream",
     "text": [
      "RMSE: 2.8422\n",
      "10 5000\n",
      "Estimating biases using als...\n",
      "MAE:  2.0414\n",
      "RMSE: 2.9567\n",
      "MAE:  1.9992\n"
     ]
    },
    {
     "name": "stderr",
     "output_type": "stream",
     "text": [
      "\r",
      "22it [31:19, 63.63s/it]"
     ]
    },
    {
     "name": "stdout",
     "output_type": "stream",
     "text": [
      "RMSE: 2.8737\n",
      "10 200\n",
      "Estimating biases using als...\n",
      "MAE:  2.0421\n",
      "RMSE: 2.9587\n",
      "MAE:  2.0040\n"
     ]
    },
    {
     "name": "stderr",
     "output_type": "stream",
     "text": [
      "\r",
      "23it [32:18, 62.27s/it]"
     ]
    },
    {
     "name": "stdout",
     "output_type": "stream",
     "text": [
      "RMSE: 2.8825\n",
      "10 150\n",
      "Estimating biases using als...\n",
      "MAE:  2.0375\n",
      "RMSE: 2.9550\n",
      "MAE:  2.0193\n"
     ]
    },
    {
     "name": "stderr",
     "output_type": "stream",
     "text": [
      "\r",
      "24it [33:19, 61.93s/it]"
     ]
    },
    {
     "name": "stdout",
     "output_type": "stream",
     "text": [
      "RMSE: 2.9026\n",
      "10 100\n",
      "Estimating biases using als...\n",
      "MAE:  2.0344\n",
      "RMSE: 2.9517\n",
      "MAE:  2.0696\n"
     ]
    },
    {
     "name": "stderr",
     "output_type": "stream",
     "text": [
      "\r",
      "25it [34:27, 63.73s/it]"
     ]
    },
    {
     "name": "stdout",
     "output_type": "stream",
     "text": [
      "RMSE: 2.9679\n",
      "10 50\n",
      "Estimating biases using als...\n",
      "MAE:  2.0314\n",
      "RMSE: 2.9515\n",
      "MAE:  2.0924\n"
     ]
    },
    {
     "name": "stderr",
     "output_type": "stream",
     "text": [
      "\r",
      "26it [35:19, 60.32s/it]"
     ]
    },
    {
     "name": "stdout",
     "output_type": "stream",
     "text": [
      "RMSE: 3.0001\n",
      "10 40\n",
      "Estimating biases using als...\n",
      "MAE:  2.0229\n",
      "RMSE: 2.9540\n",
      "MAE:  2.1181\n"
     ]
    },
    {
     "name": "stderr",
     "output_type": "stream",
     "text": [
      "\r",
      "27it [36:14, 58.72s/it]"
     ]
    },
    {
     "name": "stdout",
     "output_type": "stream",
     "text": [
      "RMSE: 3.0477\n",
      "10 30\n",
      "Estimating biases using als...\n",
      "MAE:  2.0097\n",
      "RMSE: 2.9500\n",
      "MAE:  2.1617\n"
     ]
    },
    {
     "name": "stderr",
     "output_type": "stream",
     "text": [
      "\r",
      "28it [36:54, 53.11s/it]"
     ]
    },
    {
     "name": "stdout",
     "output_type": "stream",
     "text": [
      "RMSE: 3.1223\n",
      "10 20\n",
      "Estimating biases using als...\n",
      "MAE:  1.9338\n",
      "RMSE: 2.8966\n",
      "MAE:  2.2150\n"
     ]
    },
    {
     "name": "stderr",
     "output_type": "stream",
     "text": [
      "\r",
      "29it [37:26, 46.64s/it]"
     ]
    },
    {
     "name": "stdout",
     "output_type": "stream",
     "text": [
      "RMSE: 3.2550\n",
      "10 10\n",
      "10 5\n",
      "Estimating biases using als...\n",
      "MAE:  2.0527\n",
      "RMSE: 2.9569\n",
      "MAE:  2.0641\n"
     ]
    },
    {
     "name": "stderr",
     "output_type": "stream",
     "text": [
      "\r",
      "31it [38:16, 36.74s/it]"
     ]
    },
    {
     "name": "stdout",
     "output_type": "stream",
     "text": [
      "RMSE: 2.9145\n",
      "15 5000\n",
      "Estimating biases using als...\n",
      "MAE:  2.0574\n",
      "RMSE: 2.9662\n",
      "MAE:  2.0794\n"
     ]
    },
    {
     "name": "stderr",
     "output_type": "stream",
     "text": [
      "\r",
      "32it [39:11, 41.20s/it]"
     ]
    },
    {
     "name": "stdout",
     "output_type": "stream",
     "text": [
      "RMSE: 2.9445\n",
      "15 200\n",
      "Estimating biases using als...\n",
      "MAE:  2.0523\n",
      "RMSE: 2.9585\n",
      "MAE:  2.0859\n"
     ]
    },
    {
     "name": "stderr",
     "output_type": "stream",
     "text": [
      "\r",
      "33it [40:01, 43.67s/it]"
     ]
    },
    {
     "name": "stdout",
     "output_type": "stream",
     "text": [
      "RMSE: 2.9532\n",
      "15 150\n",
      "Estimating biases using als...\n",
      "MAE:  2.0573\n",
      "RMSE: 2.9632\n",
      "MAE:  2.1012\n"
     ]
    },
    {
     "name": "stderr",
     "output_type": "stream",
     "text": [
      "\r",
      "34it [40:53, 45.93s/it]"
     ]
    },
    {
     "name": "stdout",
     "output_type": "stream",
     "text": [
      "RMSE: 2.9731\n",
      "15 100\n",
      "Estimating biases using als...\n",
      "MAE:  2.0605\n",
      "RMSE: 2.9686\n",
      "MAE:  2.1536\n"
     ]
    },
    {
     "name": "stderr",
     "output_type": "stream",
     "text": [
      "\r",
      "35it [41:36, 45.11s/it]"
     ]
    },
    {
     "name": "stdout",
     "output_type": "stream",
     "text": [
      "RMSE: 3.0381\n",
      "15 50\n",
      "Estimating biases using als...\n",
      "MAE:  2.0645\n",
      "RMSE: 2.9774\n",
      "MAE:  2.1770\n"
     ]
    },
    {
     "name": "stderr",
     "output_type": "stream",
     "text": [
      "\r",
      "36it [42:18, 44.16s/it]"
     ]
    },
    {
     "name": "stdout",
     "output_type": "stream",
     "text": [
      "RMSE: 3.0699\n",
      "15 40\n",
      "Estimating biases using als...\n",
      "MAE:  2.0525\n",
      "RMSE: 2.9736\n",
      "MAE:  2.2067\n"
     ]
    },
    {
     "name": "stderr",
     "output_type": "stream",
     "text": [
      "\r",
      "37it [43:00, 43.38s/it]"
     ]
    },
    {
     "name": "stdout",
     "output_type": "stream",
     "text": [
      "RMSE: 3.1175\n",
      "15 30\n",
      "Estimating biases using als...\n",
      "MAE:  2.0477\n",
      "RMSE: 2.9693\n",
      "MAE:  2.2615\n"
     ]
    },
    {
     "name": "stderr",
     "output_type": "stream",
     "text": [
      "39it [43:32, 28.24s/it]"
     ]
    },
    {
     "name": "stdout",
     "output_type": "stream",
     "text": [
      "RMSE: 3.1951\n",
      "15 20\n",
      "15 10\n",
      "15 5\n",
      "Estimating biases using als...\n",
      "MAE:  2.0624\n",
      "RMSE: 2.9641\n",
      "MAE:  2.1339\n"
     ]
    },
    {
     "name": "stderr",
     "output_type": "stream",
     "text": [
      "\r",
      "41it [44:15, 25.30s/it]"
     ]
    },
    {
     "name": "stdout",
     "output_type": "stream",
     "text": [
      "RMSE: 2.9729\n",
      "20 5000\n",
      "Estimating biases using als...\n",
      "MAE:  2.0671\n",
      "RMSE: 2.9721\n",
      "MAE:  2.1457\n"
     ]
    },
    {
     "name": "stderr",
     "output_type": "stream",
     "text": [
      "\r",
      "42it [45:01, 30.32s/it]"
     ]
    },
    {
     "name": "stdout",
     "output_type": "stream",
     "text": [
      "RMSE: 3.0018\n",
      "20 200\n",
      "Estimating biases using als...\n",
      "MAE:  2.0671\n",
      "RMSE: 2.9737\n",
      "MAE:  2.1503\n"
     ]
    },
    {
     "name": "stderr",
     "output_type": "stream",
     "text": [
      "\r",
      "43it [45:46, 34.26s/it]"
     ]
    },
    {
     "name": "stdout",
     "output_type": "stream",
     "text": [
      "RMSE: 3.0104\n",
      "20 150\n",
      "Estimating biases using als...\n",
      "MAE:  2.0639\n",
      "RMSE: 2.9669\n",
      "MAE:  2.1664\n"
     ]
    },
    {
     "name": "stderr",
     "output_type": "stream",
     "text": [
      "\r",
      "44it [46:37, 38.67s/it]"
     ]
    },
    {
     "name": "stdout",
     "output_type": "stream",
     "text": [
      "RMSE: 3.0294\n",
      "20 100\n",
      "Estimating biases using als...\n",
      "MAE:  2.0761\n",
      "RMSE: 2.9765\n",
      "MAE:  2.2243\n"
     ]
    },
    {
     "name": "stderr",
     "output_type": "stream",
     "text": [
      "\r",
      "45it [47:22, 40.58s/it]"
     ]
    },
    {
     "name": "stdout",
     "output_type": "stream",
     "text": [
      "RMSE: 3.0948\n",
      "20 50\n",
      "Estimating biases using als...\n",
      "MAE:  2.0788\n",
      "RMSE: 2.9795\n",
      "MAE:  2.2524\n"
     ]
    },
    {
     "name": "stderr",
     "output_type": "stream",
     "text": [
      "\r",
      "46it [47:58, 39.28s/it]"
     ]
    },
    {
     "name": "stdout",
     "output_type": "stream",
     "text": [
      "RMSE: 3.1267\n",
      "20 40\n",
      "Estimating biases using als...\n",
      "MAE:  2.0821\n",
      "RMSE: 2.9977\n",
      "MAE:  2.2783\n"
     ]
    },
    {
     "name": "stderr",
     "output_type": "stream",
     "text": [
      "\r",
      "47it [48:33, 37.92s/it]"
     ]
    },
    {
     "name": "stdout",
     "output_type": "stream",
     "text": [
      "RMSE: 3.1758\n",
      "20 30\n",
      "Estimating biases using als...\n",
      "MAE:  2.0788\n",
      "RMSE: 2.9787\n",
      "MAE:  2.3687\n"
     ]
    },
    {
     "name": "stderr",
     "output_type": "stream",
     "text": [
      "50it [48:57, 18.39s/it]"
     ]
    },
    {
     "name": "stdout",
     "output_type": "stream",
     "text": [
      "RMSE: 3.2583\n",
      "20 20\n",
      "20 10\n",
      "20 5\n",
      "Estimating biases using als...\n",
      "MAE:  2.0669\n",
      "RMSE: 2.9648\n"
     ]
    },
    {
     "name": "stderr",
     "output_type": "stream",
     "text": [
      "\r",
      "50it [49:13, 18.39s/it]"
     ]
    },
    {
     "name": "stdout",
     "output_type": "stream",
     "text": [
      "MAE:  2.2424\n"
     ]
    },
    {
     "name": "stderr",
     "output_type": "stream",
     "text": [
      "\r",
      "51it [49:36, 23.44s/it]"
     ]
    },
    {
     "name": "stdout",
     "output_type": "stream",
     "text": [
      "RMSE: 3.0560\n",
      "30 5000\n",
      "Estimating biases using als...\n",
      "MAE:  2.0719\n",
      "RMSE: 2.9738\n",
      "MAE:  2.2449\n"
     ]
    },
    {
     "name": "stderr",
     "output_type": "stream",
     "text": [
      "\r",
      "52it [50:13, 26.99s/it]"
     ]
    },
    {
     "name": "stdout",
     "output_type": "stream",
     "text": [
      "RMSE: 3.0824\n",
      "30 200\n",
      "Estimating biases using als...\n",
      "MAE:  2.0688\n",
      "RMSE: 2.9715\n",
      "MAE:  2.2495\n"
     ]
    },
    {
     "name": "stderr",
     "output_type": "stream",
     "text": [
      "\r",
      "53it [50:49, 29.41s/it]"
     ]
    },
    {
     "name": "stdout",
     "output_type": "stream",
     "text": [
      "RMSE: 3.0910\n",
      "30 150\n",
      "Estimating biases using als...\n",
      "MAE:  2.0734\n",
      "RMSE: 2.9722\n",
      "MAE:  2.2656\n"
     ]
    },
    {
     "name": "stderr",
     "output_type": "stream",
     "text": [
      "\r",
      "54it [51:27, 31.87s/it]"
     ]
    },
    {
     "name": "stdout",
     "output_type": "stream",
     "text": [
      "RMSE: 3.1101\n",
      "30 100\n",
      "Estimating biases using als...\n",
      "MAE:  2.0946\n",
      "RMSE: 2.9895\n",
      "MAE:  2.3372\n"
     ]
    },
    {
     "name": "stderr",
     "output_type": "stream",
     "text": [
      "\r",
      "55it [51:58, 31.67s/it]"
     ]
    },
    {
     "name": "stdout",
     "output_type": "stream",
     "text": [
      "RMSE: 3.1779\n",
      "30 50\n",
      "Estimating biases using als...\n",
      "MAE:  2.1120\n",
      "RMSE: 3.0008\n",
      "MAE:  2.3762\n"
     ]
    },
    {
     "name": "stderr",
     "output_type": "stream",
     "text": [
      "\r",
      "56it [52:29, 31.47s/it]"
     ]
    },
    {
     "name": "stdout",
     "output_type": "stream",
     "text": [
      "RMSE: 3.2125\n",
      "30 40\n",
      "Estimating biases using als...\n",
      "MAE:  2.1437\n",
      "RMSE: 2.9926\n",
      "MAE:  2.4705\n"
     ]
    },
    {
     "name": "stderr",
     "output_type": "stream",
     "text": [
      "59it [52:55, 16.22s/it]"
     ]
    },
    {
     "name": "stdout",
     "output_type": "stream",
     "text": [
      "RMSE: 3.2699\n",
      "30 30\n",
      "30 20\n",
      "30 10\n",
      "30 5\n",
      "Estimating biases using als...\n",
      "MAE:  2.0561\n",
      "RMSE: 2.9621\n"
     ]
    },
    {
     "name": "stderr",
     "output_type": "stream",
     "text": [
      "\r",
      "59it [53:07, 16.22s/it]"
     ]
    },
    {
     "name": "stdout",
     "output_type": "stream",
     "text": [
      "MAE:  2.3166\n"
     ]
    },
    {
     "name": "stderr",
     "output_type": "stream",
     "text": [
      "\r",
      "61it [53:27, 16.17s/it]"
     ]
    },
    {
     "name": "stdout",
     "output_type": "stream",
     "text": [
      "RMSE: 3.1130\n",
      "40 5000\n",
      "Estimating biases using als...\n",
      "MAE:  2.0616\n",
      "RMSE: 2.9708\n",
      "MAE:  2.3082\n"
     ]
    },
    {
     "name": "stderr",
     "output_type": "stream",
     "text": [
      "\r",
      "62it [54:00, 19.88s/it]"
     ]
    },
    {
     "name": "stdout",
     "output_type": "stream",
     "text": [
      "RMSE: 3.1377\n",
      "40 200\n",
      "Estimating biases using als...\n",
      "MAE:  2.0621\n",
      "RMSE: 2.9696\n",
      "MAE:  2.3106\n"
     ]
    },
    {
     "name": "stderr",
     "output_type": "stream",
     "text": [
      "\r",
      "63it [54:32, 22.88s/it]"
     ]
    },
    {
     "name": "stdout",
     "output_type": "stream",
     "text": [
      "RMSE: 3.1459\n",
      "40 150\n",
      "Estimating biases using als...\n",
      "MAE:  2.0658\n",
      "RMSE: 2.9735\n",
      "MAE:  2.3232\n"
     ]
    },
    {
     "name": "stderr",
     "output_type": "stream",
     "text": [
      "\r",
      "64it [55:04, 25.11s/it]"
     ]
    },
    {
     "name": "stdout",
     "output_type": "stream",
     "text": [
      "RMSE: 3.1646\n",
      "40 100\n",
      "Estimating biases using als...\n",
      "MAE:  2.0779\n",
      "RMSE: 2.9790\n",
      "MAE:  2.4048\n"
     ]
    },
    {
     "name": "stderr",
     "output_type": "stream",
     "text": [
      "\r",
      "65it [55:31, 25.75s/it]"
     ]
    },
    {
     "name": "stdout",
     "output_type": "stream",
     "text": [
      "RMSE: 3.2355\n",
      "40 50\n",
      "Estimating biases using als...\n",
      "MAE:  2.1330\n",
      "RMSE: 3.0056\n",
      "MAE:  2.4857\n"
     ]
    },
    {
     "name": "stderr",
     "output_type": "stream",
     "text": [
      "68it [55:58, 14.50s/it]"
     ]
    },
    {
     "name": "stdout",
     "output_type": "stream",
     "text": [
      "RMSE: 3.2749\n",
      "40 40\n",
      "40 30\n",
      "40 20\n",
      "40 10\n"
     ]
    },
    {
     "name": "stderr",
     "output_type": "stream",
     "text": [
      "\r",
      "70it [55:58,  8.92s/it]"
     ]
    },
    {
     "name": "stdout",
     "output_type": "stream",
     "text": [
      "40 5\n",
      "Estimating biases using als...\n",
      "MAE:  2.0554\n",
      "RMSE: 2.9637\n"
     ]
    },
    {
     "name": "stderr",
     "output_type": "stream",
     "text": [
      "\r",
      "70it [56:11,  8.92s/it]"
     ]
    },
    {
     "name": "stdout",
     "output_type": "stream",
     "text": [
      "MAE:  2.3823\n"
     ]
    },
    {
     "name": "stderr",
     "output_type": "stream",
     "text": [
      "\r",
      "71it [56:28, 13.56s/it]"
     ]
    },
    {
     "name": "stdout",
     "output_type": "stream",
     "text": [
      "RMSE: 3.1534\n",
      "50 5000\n",
      "Estimating biases using als...\n",
      "MAE:  2.0617\n",
      "RMSE: 2.9716\n",
      "MAE:  2.3568\n"
     ]
    },
    {
     "name": "stderr",
     "output_type": "stream",
     "text": [
      "\r",
      "72it [57:01, 18.03s/it]"
     ]
    },
    {
     "name": "stdout",
     "output_type": "stream",
     "text": [
      "RMSE: 3.1747\n",
      "50 200\n",
      "Estimating biases using als...\n",
      "MAE:  2.0651\n",
      "RMSE: 2.9794\n",
      "MAE:  2.3540\n"
     ]
    },
    {
     "name": "stderr",
     "output_type": "stream",
     "text": [
      "\r",
      "73it [57:33, 21.63s/it]"
     ]
    },
    {
     "name": "stdout",
     "output_type": "stream",
     "text": [
      "RMSE: 3.1822\n",
      "50 150\n",
      "Estimating biases using als...\n",
      "MAE:  2.0649\n",
      "RMSE: 2.9788\n",
      "MAE:  2.3671\n"
     ]
    },
    {
     "name": "stderr",
     "output_type": "stream",
     "text": [
      "\r",
      "74it [58:02, 23.58s/it]"
     ]
    },
    {
     "name": "stdout",
     "output_type": "stream",
     "text": [
      "RMSE: 3.2013\n",
      "50 100\n",
      "Estimating biases using als...\n",
      "MAE:  2.0748\n",
      "RMSE: 2.9451\n",
      "MAE:  2.4986\n"
     ]
    },
    {
     "name": "stderr",
     "output_type": "stream",
     "text": [
      "77it [58:27, 13.46s/it]"
     ]
    },
    {
     "name": "stdout",
     "output_type": "stream",
     "text": [
      "RMSE: 3.2814\n",
      "50 50\n",
      "50 40\n",
      "50 30\n",
      "50 20\n"
     ]
    },
    {
     "name": "stderr",
     "output_type": "stream",
     "text": [
      "\r",
      "79it [58:27,  8.29s/it]"
     ]
    },
    {
     "name": "stdout",
     "output_type": "stream",
     "text": [
      "50 10\n",
      "50 5\n",
      "Estimating biases using als...\n",
      "MAE:  2.0449\n",
      "RMSE: 2.9600\n"
     ]
    },
    {
     "name": "stderr",
     "output_type": "stream",
     "text": [
      "\r",
      "79it [58:50,  8.29s/it]"
     ]
    },
    {
     "name": "stdout",
     "output_type": "stream",
     "text": [
      "MAE:  2.6928\n"
     ]
    },
    {
     "name": "stderr",
     "output_type": "stream",
     "text": [
      "\r",
      "81it [58:54, 10.15s/it]"
     ]
    },
    {
     "name": "stdout",
     "output_type": "stream",
     "text": [
      "RMSE: 3.2805\n",
      "100 5000\n",
      "Estimating biases using als...\n",
      "MAE:  2.0860\n",
      "RMSE: 3.0079\n",
      "MAE:  2.5463\n"
     ]
    },
    {
     "name": "stderr",
     "output_type": "stream",
     "text": [
      "\r",
      "82it [59:20, 13.36s/it]"
     ]
    },
    {
     "name": "stdout",
     "output_type": "stream",
     "text": [
      "RMSE: 3.2683\n",
      "100 200\n",
      "Estimating biases using als...\n",
      "MAE:  2.0849\n",
      "RMSE: 3.0159\n",
      "MAE:  2.5297\n"
     ]
    },
    {
     "name": "stderr",
     "output_type": "stream",
     "text": [
      "\r",
      "83it [59:46, 16.00s/it]"
     ]
    },
    {
     "name": "stdout",
     "output_type": "stream",
     "text": [
      "RMSE: 3.2734\n",
      "100 150\n",
      "Estimating biases using als...\n",
      "MAE:  2.1949\n",
      "RMSE: 3.0489\n",
      "MAE:  2.7601\n"
     ]
    },
    {
     "name": "stderr",
     "output_type": "stream",
     "text": [
      "86it [1:00:12, 11.02s/it]"
     ]
    },
    {
     "name": "stdout",
     "output_type": "stream",
     "text": [
      "RMSE: 3.3237\n",
      "100 100\n",
      "100 50\n",
      "100 40\n",
      "100 30\n"
     ]
    },
    {
     "name": "stderr",
     "output_type": "stream",
     "text": [
      "90it [1:00:13, 40.15s/it]"
     ]
    },
    {
     "name": "stdout",
     "output_type": "stream",
     "text": [
      "100 20\n",
      "100 10\n",
      "100 5\n"
     ]
    },
    {
     "name": "stderr",
     "output_type": "stream",
     "text": [
      "\n"
     ]
    }
   ],
   "source": [
    "min_len=[0,5,10,15,20, 30, 40, 50, 100]\n",
    "max_len=[5000, 200, 150, 100, 50, 40, 30, 20, 10, 5]\n",
    "\n",
    "df=data.groupby('user_id')['vacancy_id_']. nunique ()\n",
    "\n",
    "reader = Reader(rating_scale=(0, 10))\n",
    "\n",
    "\n",
    "bsl_options = {'method': 'als', \n",
    "               'n_epochs': 5,\n",
    "               'reg_u': 12,\n",
    "               'reg_i': 5\n",
    "               }\n",
    "\n",
    "all_data_ = Dataset.load_from_df(data[['user_id','vacancy_id_', 'rating']], reader)\n",
    "all_trainset, all_testset = train_test_split(all_data_, test_size=0.5)\n",
    "\n",
    "list_mae=[]\n",
    "list_rmse=[]\n",
    "\n",
    "list_i_j=[]\n",
    "\n",
    "all_list_mae=[]\n",
    "all_list_rmse=[]\n",
    "\n",
    "for i,j in tqdm(itertools.product(min_len, max_len)):\n",
    "    data_gd=data.loc[data['user_id'].isin(list(df[(df>=i) & (df<=j)].index))]\n",
    "    data_ = Dataset.load_from_df(data_gd[['user_id','vacancy_id_', 'rating']], reader)\n",
    "    \n",
    "    if len(data_gd)>0:\n",
    "        trainset, testset = train_test_split(data_, test_size=0.25)\n",
    "        algo = BaselineOnly(bsl_options=bsl_options)\n",
    "        predictions = algo.fit(trainset).test(testset)\n",
    "        list_mae.append(accuracy.mae(predictions))\n",
    "        list_rmse.append(accuracy.rmse(predictions))\n",
    "        list_i_j.append((i,j))\n",
    "    \n",
    "        predictions = algo.test(all_testset)\n",
    "        all_list_mae.append(accuracy.mae(predictions))\n",
    "        all_list_rmse.append(accuracy.rmse(predictions))\n",
    "    print(i,j)"
   ]
  },
  {
   "cell_type": "code",
   "execution_count": 27,
   "id": "cd4c0a78",
   "metadata": {},
   "outputs": [
    {
     "data": {
      "text/html": [
       "<div>\n",
       "<style scoped>\n",
       "    .dataframe tbody tr th:only-of-type {\n",
       "        vertical-align: middle;\n",
       "    }\n",
       "\n",
       "    .dataframe tbody tr th {\n",
       "        vertical-align: top;\n",
       "    }\n",
       "\n",
       "    .dataframe thead th {\n",
       "        text-align: right;\n",
       "    }\n",
       "</style>\n",
       "<table border=\"1\" class=\"dataframe\">\n",
       "  <thead>\n",
       "    <tr style=\"text-align: right;\">\n",
       "      <th></th>\n",
       "      <th>limitation</th>\n",
       "      <th>rmse</th>\n",
       "      <th>mae</th>\n",
       "      <th>all_rmse</th>\n",
       "      <th>all_mae</th>\n",
       "    </tr>\n",
       "  </thead>\n",
       "  <tbody>\n",
       "    <tr>\n",
       "      <th>0</th>\n",
       "      <td>(0, 5000)</td>\n",
       "      <td>2.902578</td>\n",
       "      <td>1.967067</td>\n",
       "      <td>2.767700</td>\n",
       "      <td>1.875531</td>\n",
       "    </tr>\n",
       "    <tr>\n",
       "      <th>1</th>\n",
       "      <td>(0, 200)</td>\n",
       "      <td>2.908983</td>\n",
       "      <td>1.970100</td>\n",
       "      <td>2.801407</td>\n",
       "      <td>1.895131</td>\n",
       "    </tr>\n",
       "    <tr>\n",
       "      <th>2</th>\n",
       "      <td>(0, 150)</td>\n",
       "      <td>2.909407</td>\n",
       "      <td>1.968684</td>\n",
       "      <td>2.810822</td>\n",
       "      <td>1.900435</td>\n",
       "    </tr>\n",
       "    <tr>\n",
       "      <th>3</th>\n",
       "      <td>(0, 100)</td>\n",
       "      <td>2.902261</td>\n",
       "      <td>1.962380</td>\n",
       "      <td>2.831374</td>\n",
       "      <td>1.914382</td>\n",
       "    </tr>\n",
       "    <tr>\n",
       "      <th>4</th>\n",
       "      <td>(0, 50)</td>\n",
       "      <td>2.897146</td>\n",
       "      <td>1.949218</td>\n",
       "      <td>2.899247</td>\n",
       "      <td>1.954566</td>\n",
       "    </tr>\n",
       "    <tr>\n",
       "      <th>...</th>\n",
       "      <td>...</td>\n",
       "      <td>...</td>\n",
       "      <td>...</td>\n",
       "      <td>...</td>\n",
       "      <td>...</td>\n",
       "    </tr>\n",
       "    <tr>\n",
       "      <th>62</th>\n",
       "      <td>(50, 50)</td>\n",
       "      <td>2.945060</td>\n",
       "      <td>2.074809</td>\n",
       "      <td>3.281419</td>\n",
       "      <td>2.498582</td>\n",
       "    </tr>\n",
       "    <tr>\n",
       "      <th>63</th>\n",
       "      <td>(100, 5000)</td>\n",
       "      <td>2.959994</td>\n",
       "      <td>2.044912</td>\n",
       "      <td>3.280537</td>\n",
       "      <td>2.692802</td>\n",
       "    </tr>\n",
       "    <tr>\n",
       "      <th>64</th>\n",
       "      <td>(100, 200)</td>\n",
       "      <td>3.007853</td>\n",
       "      <td>2.086045</td>\n",
       "      <td>3.268255</td>\n",
       "      <td>2.546311</td>\n",
       "    </tr>\n",
       "    <tr>\n",
       "      <th>65</th>\n",
       "      <td>(100, 150)</td>\n",
       "      <td>3.015862</td>\n",
       "      <td>2.084946</td>\n",
       "      <td>3.273359</td>\n",
       "      <td>2.529709</td>\n",
       "    </tr>\n",
       "    <tr>\n",
       "      <th>66</th>\n",
       "      <td>(100, 100)</td>\n",
       "      <td>3.048932</td>\n",
       "      <td>2.194942</td>\n",
       "      <td>3.323696</td>\n",
       "      <td>2.760142</td>\n",
       "    </tr>\n",
       "  </tbody>\n",
       "</table>\n",
       "<p>67 rows × 5 columns</p>\n",
       "</div>"
      ],
      "text/plain": [
       "     limitation      rmse       mae  all_rmse   all_mae\n",
       "0     (0, 5000)  2.902578  1.967067  2.767700  1.875531\n",
       "1      (0, 200)  2.908983  1.970100  2.801407  1.895131\n",
       "2      (0, 150)  2.909407  1.968684  2.810822  1.900435\n",
       "3      (0, 100)  2.902261  1.962380  2.831374  1.914382\n",
       "4       (0, 50)  2.897146  1.949218  2.899247  1.954566\n",
       "..          ...       ...       ...       ...       ...\n",
       "62     (50, 50)  2.945060  2.074809  3.281419  2.498582\n",
       "63  (100, 5000)  2.959994  2.044912  3.280537  2.692802\n",
       "64   (100, 200)  3.007853  2.086045  3.268255  2.546311\n",
       "65   (100, 150)  3.015862  2.084946  3.273359  2.529709\n",
       "66   (100, 100)  3.048932  2.194942  3.323696  2.760142\n",
       "\n",
       "[67 rows x 5 columns]"
      ]
     },
     "execution_count": 27,
     "metadata": {},
     "output_type": "execute_result"
    }
   ],
   "source": [
    "accurace_df = pd.DataFrame(list(zip( list_i_j, list_rmse, list_mae, all_list_rmse, all_list_mae)), \n",
    "                           columns = ['limitation', 'rmse', 'mae', 'all_rmse', 'all_mae'])\n",
    "\n",
    "accurace_df "
   ]
  },
  {
   "cell_type": "code",
   "execution_count": 33,
   "id": "0c3f1393",
   "metadata": {},
   "outputs": [
    {
     "data": {
      "text/html": [
       "<div>\n",
       "<style scoped>\n",
       "    .dataframe tbody tr th:only-of-type {\n",
       "        vertical-align: middle;\n",
       "    }\n",
       "\n",
       "    .dataframe tbody tr th {\n",
       "        vertical-align: top;\n",
       "    }\n",
       "\n",
       "    .dataframe thead th {\n",
       "        text-align: right;\n",
       "    }\n",
       "</style>\n",
       "<table border=\"1\" class=\"dataframe\">\n",
       "  <thead>\n",
       "    <tr style=\"text-align: right;\">\n",
       "      <th></th>\n",
       "      <th>limitation</th>\n",
       "      <th>rmse</th>\n",
       "      <th>mae</th>\n",
       "      <th>all_rmse</th>\n",
       "      <th>all_mae</th>\n",
       "    </tr>\n",
       "  </thead>\n",
       "  <tbody>\n",
       "    <tr>\n",
       "      <th>4</th>\n",
       "      <td>(0, 50)</td>\n",
       "      <td>2.897146</td>\n",
       "      <td>1.949218</td>\n",
       "      <td>2.899247</td>\n",
       "      <td>1.954566</td>\n",
       "    </tr>\n",
       "    <tr>\n",
       "      <th>5</th>\n",
       "      <td>(0, 40)</td>\n",
       "      <td>2.892206</td>\n",
       "      <td>1.939030</td>\n",
       "      <td>2.932273</td>\n",
       "      <td>1.972208</td>\n",
       "    </tr>\n",
       "    <tr>\n",
       "      <th>6</th>\n",
       "      <td>(0, 30)</td>\n",
       "      <td>2.878798</td>\n",
       "      <td>1.918360</td>\n",
       "      <td>2.981251</td>\n",
       "      <td>1.994931</td>\n",
       "    </tr>\n",
       "    <tr>\n",
       "      <th>7</th>\n",
       "      <td>(0, 20)</td>\n",
       "      <td>2.863191</td>\n",
       "      <td>1.880283</td>\n",
       "      <td>3.056369</td>\n",
       "      <td>2.022330</td>\n",
       "    </tr>\n",
       "    <tr>\n",
       "      <th>8</th>\n",
       "      <td>(0, 10)</td>\n",
       "      <td>2.787610</td>\n",
       "      <td>1.748618</td>\n",
       "      <td>3.188536</td>\n",
       "      <td>2.032015</td>\n",
       "    </tr>\n",
       "    <tr>\n",
       "      <th>9</th>\n",
       "      <td>(0, 5)</td>\n",
       "      <td>2.508766</td>\n",
       "      <td>1.409393</td>\n",
       "      <td>3.306899</td>\n",
       "      <td>1.944424</td>\n",
       "    </tr>\n",
       "    <tr>\n",
       "      <th>14</th>\n",
       "      <td>(5, 50)</td>\n",
       "      <td>2.894907</td>\n",
       "      <td>1.948205</td>\n",
       "      <td>2.898930</td>\n",
       "      <td>1.954256</td>\n",
       "    </tr>\n",
       "    <tr>\n",
       "      <th>15</th>\n",
       "      <td>(5, 40)</td>\n",
       "      <td>2.896067</td>\n",
       "      <td>1.942296</td>\n",
       "      <td>2.932092</td>\n",
       "      <td>1.971873</td>\n",
       "    </tr>\n",
       "    <tr>\n",
       "      <th>16</th>\n",
       "      <td>(5, 30)</td>\n",
       "      <td>2.889746</td>\n",
       "      <td>1.922775</td>\n",
       "      <td>2.981141</td>\n",
       "      <td>1.992252</td>\n",
       "    </tr>\n",
       "    <tr>\n",
       "      <th>17</th>\n",
       "      <td>(5, 20)</td>\n",
       "      <td>2.862019</td>\n",
       "      <td>1.880186</td>\n",
       "      <td>3.056056</td>\n",
       "      <td>2.022203</td>\n",
       "    </tr>\n",
       "    <tr>\n",
       "      <th>18</th>\n",
       "      <td>(5, 10)</td>\n",
       "      <td>2.791611</td>\n",
       "      <td>1.750301</td>\n",
       "      <td>3.189616</td>\n",
       "      <td>2.029937</td>\n",
       "    </tr>\n",
       "    <tr>\n",
       "      <th>19</th>\n",
       "      <td>(5, 5)</td>\n",
       "      <td>2.513592</td>\n",
       "      <td>1.400323</td>\n",
       "      <td>3.310102</td>\n",
       "      <td>1.933722</td>\n",
       "    </tr>\n",
       "    <tr>\n",
       "      <th>28</th>\n",
       "      <td>(10, 10)</td>\n",
       "      <td>2.896563</td>\n",
       "      <td>1.933771</td>\n",
       "      <td>3.255004</td>\n",
       "      <td>2.215019</td>\n",
       "    </tr>\n",
       "  </tbody>\n",
       "</table>\n",
       "</div>"
      ],
      "text/plain": [
       "   limitation      rmse       mae  all_rmse   all_mae\n",
       "4     (0, 50)  2.897146  1.949218  2.899247  1.954566\n",
       "5     (0, 40)  2.892206  1.939030  2.932273  1.972208\n",
       "6     (0, 30)  2.878798  1.918360  2.981251  1.994931\n",
       "7     (0, 20)  2.863191  1.880283  3.056369  2.022330\n",
       "8     (0, 10)  2.787610  1.748618  3.188536  2.032015\n",
       "9      (0, 5)  2.508766  1.409393  3.306899  1.944424\n",
       "14    (5, 50)  2.894907  1.948205  2.898930  1.954256\n",
       "15    (5, 40)  2.896067  1.942296  2.932092  1.971873\n",
       "16    (5, 30)  2.889746  1.922775  2.981141  1.992252\n",
       "17    (5, 20)  2.862019  1.880186  3.056056  2.022203\n",
       "18    (5, 10)  2.791611  1.750301  3.189616  2.029937\n",
       "19     (5, 5)  2.513592  1.400323  3.310102  1.933722\n",
       "28   (10, 10)  2.896563  1.933771  3.255004  2.215019"
      ]
     },
     "execution_count": 33,
     "metadata": {},
     "output_type": "execute_result"
    }
   ],
   "source": [
    "accurace_df[accurace_df.rmse<2.9]"
   ]
  },
  {
   "cell_type": "code",
   "execution_count": 30,
   "id": "839f90fa",
   "metadata": {},
   "outputs": [
    {
     "data": {
      "text/html": [
       "<div>\n",
       "<style scoped>\n",
       "    .dataframe tbody tr th:only-of-type {\n",
       "        vertical-align: middle;\n",
       "    }\n",
       "\n",
       "    .dataframe tbody tr th {\n",
       "        vertical-align: top;\n",
       "    }\n",
       "\n",
       "    .dataframe thead th {\n",
       "        text-align: right;\n",
       "    }\n",
       "</style>\n",
       "<table border=\"1\" class=\"dataframe\">\n",
       "  <thead>\n",
       "    <tr style=\"text-align: right;\">\n",
       "      <th></th>\n",
       "      <th>limitation</th>\n",
       "      <th>rmse</th>\n",
       "      <th>mae</th>\n",
       "      <th>all_rmse</th>\n",
       "      <th>all_mae</th>\n",
       "    </tr>\n",
       "  </thead>\n",
       "  <tbody>\n",
       "    <tr>\n",
       "      <th>0</th>\n",
       "      <td>(0, 5000)</td>\n",
       "      <td>2.902578</td>\n",
       "      <td>1.967067</td>\n",
       "      <td>2.767700</td>\n",
       "      <td>1.875531</td>\n",
       "    </tr>\n",
       "    <tr>\n",
       "      <th>1</th>\n",
       "      <td>(0, 200)</td>\n",
       "      <td>2.908983</td>\n",
       "      <td>1.970100</td>\n",
       "      <td>2.801407</td>\n",
       "      <td>1.895131</td>\n",
       "    </tr>\n",
       "    <tr>\n",
       "      <th>2</th>\n",
       "      <td>(0, 150)</td>\n",
       "      <td>2.909407</td>\n",
       "      <td>1.968684</td>\n",
       "      <td>2.810822</td>\n",
       "      <td>1.900435</td>\n",
       "    </tr>\n",
       "    <tr>\n",
       "      <th>3</th>\n",
       "      <td>(0, 100)</td>\n",
       "      <td>2.902261</td>\n",
       "      <td>1.962380</td>\n",
       "      <td>2.831374</td>\n",
       "      <td>1.914382</td>\n",
       "    </tr>\n",
       "    <tr>\n",
       "      <th>4</th>\n",
       "      <td>(0, 50)</td>\n",
       "      <td>2.897146</td>\n",
       "      <td>1.949218</td>\n",
       "      <td>2.899247</td>\n",
       "      <td>1.954566</td>\n",
       "    </tr>\n",
       "    <tr>\n",
       "      <th>10</th>\n",
       "      <td>(5, 5000)</td>\n",
       "      <td>2.904775</td>\n",
       "      <td>1.969407</td>\n",
       "      <td>2.768101</td>\n",
       "      <td>1.875460</td>\n",
       "    </tr>\n",
       "    <tr>\n",
       "      <th>11</th>\n",
       "      <td>(5, 200)</td>\n",
       "      <td>2.906327</td>\n",
       "      <td>1.968918</td>\n",
       "      <td>2.801060</td>\n",
       "      <td>1.895370</td>\n",
       "    </tr>\n",
       "    <tr>\n",
       "      <th>12</th>\n",
       "      <td>(5, 150)</td>\n",
       "      <td>2.906871</td>\n",
       "      <td>1.966779</td>\n",
       "      <td>2.810757</td>\n",
       "      <td>1.900647</td>\n",
       "    </tr>\n",
       "    <tr>\n",
       "      <th>13</th>\n",
       "      <td>(5, 100)</td>\n",
       "      <td>2.903472</td>\n",
       "      <td>1.962919</td>\n",
       "      <td>2.831484</td>\n",
       "      <td>1.913973</td>\n",
       "    </tr>\n",
       "    <tr>\n",
       "      <th>14</th>\n",
       "      <td>(5, 50)</td>\n",
       "      <td>2.894907</td>\n",
       "      <td>1.948205</td>\n",
       "      <td>2.898930</td>\n",
       "      <td>1.954256</td>\n",
       "    </tr>\n",
       "    <tr>\n",
       "      <th>20</th>\n",
       "      <td>(10, 5000)</td>\n",
       "      <td>2.947184</td>\n",
       "      <td>2.036800</td>\n",
       "      <td>2.842242</td>\n",
       "      <td>1.981427</td>\n",
       "    </tr>\n",
       "    <tr>\n",
       "      <th>21</th>\n",
       "      <td>(10, 200)</td>\n",
       "      <td>2.956663</td>\n",
       "      <td>2.041368</td>\n",
       "      <td>2.873705</td>\n",
       "      <td>1.999227</td>\n",
       "    </tr>\n",
       "    <tr>\n",
       "      <th>22</th>\n",
       "      <td>(10, 150)</td>\n",
       "      <td>2.958730</td>\n",
       "      <td>2.042058</td>\n",
       "      <td>2.882459</td>\n",
       "      <td>2.003994</td>\n",
       "    </tr>\n",
       "  </tbody>\n",
       "</table>\n",
       "</div>"
      ],
      "text/plain": [
       "    limitation      rmse       mae  all_rmse   all_mae\n",
       "0    (0, 5000)  2.902578  1.967067  2.767700  1.875531\n",
       "1     (0, 200)  2.908983  1.970100  2.801407  1.895131\n",
       "2     (0, 150)  2.909407  1.968684  2.810822  1.900435\n",
       "3     (0, 100)  2.902261  1.962380  2.831374  1.914382\n",
       "4      (0, 50)  2.897146  1.949218  2.899247  1.954566\n",
       "10   (5, 5000)  2.904775  1.969407  2.768101  1.875460\n",
       "11    (5, 200)  2.906327  1.968918  2.801060  1.895370\n",
       "12    (5, 150)  2.906871  1.966779  2.810757  1.900647\n",
       "13    (5, 100)  2.903472  1.962919  2.831484  1.913973\n",
       "14     (5, 50)  2.894907  1.948205  2.898930  1.954256\n",
       "20  (10, 5000)  2.947184  2.036800  2.842242  1.981427\n",
       "21   (10, 200)  2.956663  2.041368  2.873705  1.999227\n",
       "22   (10, 150)  2.958730  2.042058  2.882459  2.003994"
      ]
     },
     "execution_count": 30,
     "metadata": {},
     "output_type": "execute_result"
    }
   ],
   "source": [
    "accurace_df[accurace_df.all_rmse<2.9]"
   ]
  },
  {
   "cell_type": "markdown",
   "id": "46f953a7",
   "metadata": {},
   "source": [
    "лучшее значение :"
   ]
  },
  {
   "cell_type": "code",
   "execution_count": 32,
   "id": "4859f47d",
   "metadata": {},
   "outputs": [
    {
     "data": {
      "text/plain": [
       "limitation    (5, 5000)\n",
       "rmse           2.904775\n",
       "mae            1.969407\n",
       "all_rmse       2.768101\n",
       "all_mae         1.87546\n",
       "Name: 10, dtype: object"
      ]
     },
     "execution_count": 32,
     "metadata": {},
     "output_type": "execute_result"
    }
   ],
   "source": [
    "accurace_df.loc[10, ]"
   ]
  },
  {
   "cell_type": "code",
   "execution_count": null,
   "id": "fdd725b1",
   "metadata": {},
   "outputs": [],
   "source": []
  }
 ],
 "metadata": {
  "kernelspec": {
   "display_name": "Python 3 (ipykernel)",
   "language": "python",
   "name": "python3"
  },
  "language_info": {
   "codemirror_mode": {
    "name": "ipython",
    "version": 3
   },
   "file_extension": ".py",
   "mimetype": "text/x-python",
   "name": "python",
   "nbconvert_exporter": "python",
   "pygments_lexer": "ipython3",
   "version": "3.9.13"
  }
 },
 "nbformat": 4,
 "nbformat_minor": 5
}
