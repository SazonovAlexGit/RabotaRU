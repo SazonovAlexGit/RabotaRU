{
 "cells": [
  {
   "cell_type": "code",
   "execution_count": 1,
   "id": "7eb2152f",
   "metadata": {},
   "outputs": [],
   "source": [
    "import pandas as pd\n",
    "import numpy as np\n",
    "import sklearn\n",
    "import datetime\n",
    "from sklearn.model_selection import train_test_split\n",
    "import matplotlib.pyplot as plt\n",
    "import seaborn as sns\n",
    "import pyarrow.parquet as pq"
   ]
  },
  {
   "cell_type": "code",
   "execution_count": 2,
   "outputs": [
    {
     "data": {
      "text/plain": "                                  user_id  vacancy_id_  rating\n0        000089d26cdd49d68839c68bc10f2cf2       177380       1\n1        000089d26cdd49d68839c68bc10f2cf2       181353       1\n2        000089d26cdd49d68839c68bc10f2cf2       195890       1\n3        000089d26cdd49d68839c68bc10f2cf2       205562       1\n4        000089d26cdd49d68839c68bc10f2cf2       211064       1\n...                                   ...          ...     ...\n4662685  ffffdb17f45b4032b386d691d52e6c00       107125      10\n4662686  ffffdb17f45b4032b386d691d52e6c00       107893      10\n4662687  ffffdb17f45b4032b386d691d52e6c00       150843      10\n4662688  ffffdb17f45b4032b386d691d52e6c00       160164      10\n4662689  ffffdb17f45b4032b386d691d52e6c00       185412      10\n\n[4660434 rows x 3 columns]",
      "text/html": "<div>\n<style scoped>\n    .dataframe tbody tr th:only-of-type {\n        vertical-align: middle;\n    }\n\n    .dataframe tbody tr th {\n        vertical-align: top;\n    }\n\n    .dataframe thead th {\n        text-align: right;\n    }\n</style>\n<table border=\"1\" class=\"dataframe\">\n  <thead>\n    <tr style=\"text-align: right;\">\n      <th></th>\n      <th>user_id</th>\n      <th>vacancy_id_</th>\n      <th>rating</th>\n    </tr>\n  </thead>\n  <tbody>\n    <tr>\n      <th>0</th>\n      <td>000089d26cdd49d68839c68bc10f2cf2</td>\n      <td>177380</td>\n      <td>1</td>\n    </tr>\n    <tr>\n      <th>1</th>\n      <td>000089d26cdd49d68839c68bc10f2cf2</td>\n      <td>181353</td>\n      <td>1</td>\n    </tr>\n    <tr>\n      <th>2</th>\n      <td>000089d26cdd49d68839c68bc10f2cf2</td>\n      <td>195890</td>\n      <td>1</td>\n    </tr>\n    <tr>\n      <th>3</th>\n      <td>000089d26cdd49d68839c68bc10f2cf2</td>\n      <td>205562</td>\n      <td>1</td>\n    </tr>\n    <tr>\n      <th>4</th>\n      <td>000089d26cdd49d68839c68bc10f2cf2</td>\n      <td>211064</td>\n      <td>1</td>\n    </tr>\n    <tr>\n      <th>...</th>\n      <td>...</td>\n      <td>...</td>\n      <td>...</td>\n    </tr>\n    <tr>\n      <th>4662685</th>\n      <td>ffffdb17f45b4032b386d691d52e6c00</td>\n      <td>107125</td>\n      <td>10</td>\n    </tr>\n    <tr>\n      <th>4662686</th>\n      <td>ffffdb17f45b4032b386d691d52e6c00</td>\n      <td>107893</td>\n      <td>10</td>\n    </tr>\n    <tr>\n      <th>4662687</th>\n      <td>ffffdb17f45b4032b386d691d52e6c00</td>\n      <td>150843</td>\n      <td>10</td>\n    </tr>\n    <tr>\n      <th>4662688</th>\n      <td>ffffdb17f45b4032b386d691d52e6c00</td>\n      <td>160164</td>\n      <td>10</td>\n    </tr>\n    <tr>\n      <th>4662689</th>\n      <td>ffffdb17f45b4032b386d691d52e6c00</td>\n      <td>185412</td>\n      <td>10</td>\n    </tr>\n  </tbody>\n</table>\n<p>4660434 rows × 3 columns</p>\n</div>"
     },
     "execution_count": 2,
     "metadata": {},
     "output_type": "execute_result"
    }
   ],
   "source": [
    "train_group = pd.read_pickle('train_group_add_cookie.pickle')\n",
    "\n",
    "train_group\n",
    "\n",
    "user_id=train_group.index.get_level_values(0)\n",
    "\n",
    "vacancy_id_=train_group.index.get_level_values(1)\n",
    "\n",
    "df = pd.DataFrame(list(zip( user_id, vacancy_id_, train_group['event_type'].to_list())), columns = ['user_id', 'vacancy_id_', 'rating'])\n",
    "\n",
    "data=df.groupby('user_id')['vacancy_id_']. nunique ()\n",
    "\n",
    "df=df.loc[df['user_id'].isin(list(data[(data>=5) & (data<5000)].index))]\n",
    "\n",
    "df\n"
   ],
   "metadata": {
    "collapsed": false
   }
  },
  {
   "cell_type": "code",
   "execution_count": 9,
   "id": "22f3df63",
   "metadata": {},
   "outputs": [
    {
     "data": {
      "text/plain": "                                  user_id  vacancy_id_  rating\n0        000089d26cdd49d68839c68bc10f2cf2       177380       1\n1        000089d26cdd49d68839c68bc10f2cf2       181353       1\n2        000089d26cdd49d68839c68bc10f2cf2       195890       1\n3        000089d26cdd49d68839c68bc10f2cf2       205562       1\n4        000089d26cdd49d68839c68bc10f2cf2       211064       1\n...                                   ...          ...     ...\n4662685  ffffdb17f45b4032b386d691d52e6c00       107125      10\n4662686  ffffdb17f45b4032b386d691d52e6c00       107893      10\n4662687  ffffdb17f45b4032b386d691d52e6c00       150843      10\n4662688  ffffdb17f45b4032b386d691d52e6c00       160164      10\n4662689  ffffdb17f45b4032b386d691d52e6c00       185412      10\n\n[4660434 rows x 3 columns]",
      "text/html": "<div>\n<style scoped>\n    .dataframe tbody tr th:only-of-type {\n        vertical-align: middle;\n    }\n\n    .dataframe tbody tr th {\n        vertical-align: top;\n    }\n\n    .dataframe thead th {\n        text-align: right;\n    }\n</style>\n<table border=\"1\" class=\"dataframe\">\n  <thead>\n    <tr style=\"text-align: right;\">\n      <th></th>\n      <th>user_id</th>\n      <th>vacancy_id_</th>\n      <th>rating</th>\n    </tr>\n  </thead>\n  <tbody>\n    <tr>\n      <th>0</th>\n      <td>000089d26cdd49d68839c68bc10f2cf2</td>\n      <td>177380</td>\n      <td>1</td>\n    </tr>\n    <tr>\n      <th>1</th>\n      <td>000089d26cdd49d68839c68bc10f2cf2</td>\n      <td>181353</td>\n      <td>1</td>\n    </tr>\n    <tr>\n      <th>2</th>\n      <td>000089d26cdd49d68839c68bc10f2cf2</td>\n      <td>195890</td>\n      <td>1</td>\n    </tr>\n    <tr>\n      <th>3</th>\n      <td>000089d26cdd49d68839c68bc10f2cf2</td>\n      <td>205562</td>\n      <td>1</td>\n    </tr>\n    <tr>\n      <th>4</th>\n      <td>000089d26cdd49d68839c68bc10f2cf2</td>\n      <td>211064</td>\n      <td>1</td>\n    </tr>\n    <tr>\n      <th>...</th>\n      <td>...</td>\n      <td>...</td>\n      <td>...</td>\n    </tr>\n    <tr>\n      <th>4662685</th>\n      <td>ffffdb17f45b4032b386d691d52e6c00</td>\n      <td>107125</td>\n      <td>10</td>\n    </tr>\n    <tr>\n      <th>4662686</th>\n      <td>ffffdb17f45b4032b386d691d52e6c00</td>\n      <td>107893</td>\n      <td>10</td>\n    </tr>\n    <tr>\n      <th>4662687</th>\n      <td>ffffdb17f45b4032b386d691d52e6c00</td>\n      <td>150843</td>\n      <td>10</td>\n    </tr>\n    <tr>\n      <th>4662688</th>\n      <td>ffffdb17f45b4032b386d691d52e6c00</td>\n      <td>160164</td>\n      <td>10</td>\n    </tr>\n    <tr>\n      <th>4662689</th>\n      <td>ffffdb17f45b4032b386d691d52e6c00</td>\n      <td>185412</td>\n      <td>10</td>\n    </tr>\n  </tbody>\n</table>\n<p>4660434 rows × 3 columns</p>\n</div>"
     },
     "execution_count": 9,
     "metadata": {},
     "output_type": "execute_result"
    }
   ],
   "source": [
    "train_group = pd.read_pickle('train_group_add_cookie.pickle')\n",
    "\n",
    "train_group\n",
    "\n",
    "user_id=train_group.index.get_level_values(0)\n",
    "\n",
    "vacancy_id_=train_group.index.get_level_values(1)\n",
    "\n",
    "df = pd.DataFrame(list(zip( user_id, vacancy_id_, train_group['event_type'].to_list())), columns = ['user_id', 'vacancy_id_', 'rating'])\n",
    "\n",
    "data=df.groupby('user_id')['vacancy_id_']. nunique ()\n",
    "\n",
    "df=df.loc[df['user_id'].isin(list(data[(data>=5) & (data<5000)].index))]\n",
    "\n",
    "df"
   ]
  },
  {
   "cell_type": "markdown",
   "id": "14d71906",
   "metadata": {},
   "source": [
    "**Prepare Data**"
   ]
  },
  {
   "cell_type": "code",
   "execution_count": 3,
   "id": "57334e32",
   "metadata": {},
   "outputs": [],
   "source": [
    "import tensorflow as tf\n",
    "from tensorflow.python.keras.layers import  Input, Embedding, Dot, Reshape, Dense\n",
    "from tensorflow.python.keras.models import Model\n"
   ]
  },
  {
   "cell_type": "code",
   "execution_count": 4,
   "id": "c2513d8e",
   "metadata": {},
   "outputs": [
    {
     "name": "stdout",
     "output_type": "stream",
     "text": [
      "322214\n"
     ]
    }
   ],
   "source": [
    "# all unique user_id\n",
    "user_ids = df[\"user_id\"].unique().tolist() \n",
    "num_all_user = len(user_ids)\n",
    "print(num_all_user)"
   ]
  },
  {
   "cell_type": "code",
   "execution_count": 5,
   "id": "cd0b3306",
   "metadata": {},
   "outputs": [],
   "source": [
    "# randomly select 90% users from dataset \n",
    "np.random.seed(123)\n",
    "rand_userid = np.random.choice(user_ids, size = int(num_all_user * 0.9), replace=False)\n",
    "sample_df = df.loc[df['user_id'].isin(rand_userid)]"
   ]
  },
  {
   "cell_type": "code",
   "execution_count": 6,
   "id": "519460e7",
   "metadata": {},
   "outputs": [],
   "source": [
    "sample_df = df"
   ]
  },
  {
   "cell_type": "code",
   "execution_count": 7,
   "id": "fb586e50",
   "metadata": {},
   "outputs": [],
   "source": [
    "# userid, movieid encoding by indices\n",
    "user_ids = sample_df['user_id'].unique()\n",
    "num_users = len(user_ids)\n",
    "user2user_encoded = {x: i for i, x in enumerate(user_ids)}\n",
    "user_encoded2user = {i: x for i, x in enumerate(user_ids)}\n",
    "sample_df['user_encoded'] = sample_df['user_id'].map(user2user_encoded)"
   ]
  },
  {
   "cell_type": "code",
   "execution_count": 8,
   "id": "cf8154de",
   "metadata": {},
   "outputs": [],
   "source": [
    "vacancy_ids = sample_df['vacancy_id_'].unique()\n",
    "num_vacancy = len(vacancy_ids)\n",
    "vacancy2vacancy_encoded = {x: i for i, x in enumerate(vacancy_ids)}\n",
    "vacancy_encoded2vacancy = {i: x for i, x in enumerate(vacancy_ids)}\n",
    "sample_df['vacancy_encoded'] = sample_df['vacancy_id_'].map(vacancy2vacancy_encoded)"
   ]
  },
  {
   "cell_type": "code",
   "execution_count": 9,
   "id": "16c27146",
   "metadata": {},
   "outputs": [],
   "source": [
    "# train-test split\n",
    "# train, test = train_test_split(sample_df, test_size = 0.2, random_state=123)\n",
    "train = sample_df"
   ]
  },
  {
   "cell_type": "code",
   "execution_count": 10,
   "id": "8a7165fa",
   "metadata": {},
   "outputs": [],
   "source": [
    "num_train_user = len(np.unique(train['user_encoded']))\n",
    "num_train_vacancy = len(np.unique(train['vacancy_encoded']))"
   ]
  },
  {
   "cell_type": "code",
   "execution_count": 11,
   "id": "ff48853e",
   "metadata": {},
   "outputs": [
    {
     "name": "stdout",
     "output_type": "stream",
     "text": [
      "total vacancy: 160162 \n",
      "vacancy in train: 160162 \n",
      "vacancy not in train: 0 (0.00) \n",
      "\n",
      "total user: 322214 \n",
      "user in train: 322214 \n",
      "user not in train: 0 (0.00)\n"
     ]
    }
   ],
   "source": [
    "print(f'total vacancy: {num_vacancy}', \n",
    "      f'\\nvacancy in train: {num_train_vacancy}', \n",
    "      f'\\nvacancy not in train: {num_vacancy - num_train_vacancy} ({1 - num_train_vacancy / num_vacancy :.2f})', \n",
    "      f'\\n\\ntotal user: {num_users}', \n",
    "      f'\\nuser in train: {num_train_user}', \n",
    "      f'\\nuser not in train: {num_users - num_train_user} ({1 - num_train_user / num_users :.2f})'\n",
    "     )"
   ]
  },
  {
   "cell_type": "markdown",
   "id": "9d7d67dd",
   "metadata": {},
   "source": [
    "**Embedding and Model**"
   ]
  },
  {
   "cell_type": "code",
   "execution_count": 12,
   "id": "1e63378a",
   "metadata": {},
   "outputs": [],
   "source": [
    "# from keras.models import Model, Sequential\n",
    "from keras.layers import Embedding, Flatten, Input, Concatenate, Dropout, Dense, BatchNormalization, concatenate, dot\n",
    "from tensorflow.python.keras import optimizers\n",
    "from keras.utils import plot_model, model_to_dot\n",
    "from keras.constraints import non_neg\n",
    "from IPython.display import SVG\n",
    "from sklearn.metrics import mean_squared_error\n",
    "import os"
   ]
  },
  {
   "cell_type": "code",
   "execution_count": 13,
   "id": "0a8bf766",
   "metadata": {},
   "outputs": [],
   "source": [
    "# input: an integer as embedding layer size, a float as drop out probability\n",
    "# output: a keras NCF model with pre-constructed layers\n",
    "def NCF_model(embed_size = 10, drop_out_prob = 0.2): \n",
    "    # define spaceholder of embedding inputs\n",
    "    vacancy_input = tf.keras.layers.Input(shape=[1],name='vacancy-input')\n",
    "    user_input = tf.keras.layers.Input(shape=[1], name='user-input')\n",
    "\n",
    "    # MLP embeddings for both user and movie\n",
    "    vacancy_embedding_mlp = Embedding(num_vacancy, embed_size, \n",
    "                                    name='vacancy-embedding-mlp')(vacancy_input)\n",
    "    vacancy_vec_mlp = Flatten(name='flatten-vacancy-mlp')(vacancy_embedding_mlp)\n",
    "    vacancy_vec_mlp = Flatten(name='flatten-vacancy-mlp')(vacancy_embedding_mlp)\n",
    "\n",
    "    user_embedding_mlp = Embedding(num_users, embed_size, \n",
    "                                   name='user-embedding-mlp')(user_input)\n",
    "    user_vec_mlp = Flatten(name='flatten-user-mlp')(user_embedding_mlp)\n",
    "\n",
    "    # MF embeddings for both user and movie\n",
    "    vacancy_embedding_mf = Embedding(num_vacancy, embed_size, \n",
    "                                   name='vacancy-embedding-mf')(vacancy_input)\n",
    "    vacancy_vec_mf = Flatten(name='flatten-vacancy-mf')(vacancy_embedding_mf)\n",
    "\n",
    "    user_embedding_mf = Embedding(num_users, embed_size, \n",
    "                                  name='user-embedding-mf')(user_input)\n",
    "    user_vec_mf = Flatten(name='flatten-user-mf')(user_embedding_mf)\n",
    "\n",
    "    # MLP layers\n",
    "    concat = concatenate([vacancy_vec_mlp, user_vec_mlp], axis=-1, name='concat')\n",
    "    concat_dropout = Dropout(drop_out_prob)(concat)\n",
    "\n",
    "    fc_1 = Dense(100, name='fc-1', activation='relu')(concat_dropout)\n",
    "    fc_1_bn = BatchNormalization(name='batch-norm-1')(fc_1)\n",
    "    fc_1_dropout = Dropout(drop_out_prob)(fc_1_bn)\n",
    "\n",
    "    fc_2 = Dense(50, name='fc-2', activation='relu')(fc_1_dropout)\n",
    "    fc_2_bn = BatchNormalization(name='batch-norm-2')(fc_2)\n",
    "    fc_2_dropout = Dropout(drop_out_prob)(fc_2_bn)\n",
    "\n",
    "    # Prediction from both layers\n",
    "    pred_mlp = Dense(10, name='pred-mlp', activation='relu')(fc_2_dropout)\n",
    "    pred_mf = dot([vacancy_vec_mf, user_vec_mf], axes=1, normalize=False)\n",
    "\n",
    "    combine_mlp_mf = concatenate([pred_mf, pred_mlp], axis=-1, name='pred_mf')\n",
    "    # Final prediction\n",
    "    result = Dense(1, name='result', activation='relu')(combine_mlp_mf)\n",
    "\n",
    "    model = Model([user_input, vacancy_input], result)\n",
    "    model.compile(optimizer=optimizers.adam_v2.Adam(learning_rate=0.01), loss='mean_squared_error')\n",
    "\n",
    "    return model"
   ]
  },
  {
   "cell_type": "code",
   "execution_count": 14,
   "id": "c9e8298c",
   "metadata": {},
   "outputs": [
    {
     "name": "stdout",
     "output_type": "stream",
     "text": [
      "Metal device set to: Apple M1 Max\n"
     ]
    }
   ],
   "source": [
    "model = NCF_model()\n"
   ]
  },
  {
   "cell_type": "code",
   "execution_count": 15,
   "id": "3454928b",
   "metadata": {},
   "outputs": [
    {
     "name": "stdout",
     "output_type": "stream",
     "text": [
      "Model: \"model\"\n",
      "__________________________________________________________________________________________________\n",
      "Layer (type)                    Output Shape         Param #     Connected to                     \n",
      "==================================================================================================\n",
      "Total params: 9,655,792\n",
      "Trainable params: 9,655,492\n",
      "Non-trainable params: 300\n",
      "__________________________________________________________________________________________________\n"
     ]
    }
   ],
   "source": [
    "model.summary()"
   ]
  },
  {
   "cell_type": "code",
   "execution_count": 16,
   "id": "a5e5bc18",
   "metadata": {},
   "outputs": [
    {
     "data": {
      "text/plain": "                                  user_id  vacancy_id_  rating  user_encoded  \\\n0        000089d26cdd49d68839c68bc10f2cf2       177380       1             0   \n1        000089d26cdd49d68839c68bc10f2cf2       181353       1             0   \n2        000089d26cdd49d68839c68bc10f2cf2       195890       1             0   \n3        000089d26cdd49d68839c68bc10f2cf2       205562       1             0   \n4        000089d26cdd49d68839c68bc10f2cf2       211064       1             0   \n...                                   ...          ...     ...           ...   \n4662685  ffffdb17f45b4032b386d691d52e6c00       107125      10        322213   \n4662686  ffffdb17f45b4032b386d691d52e6c00       107893      10        322213   \n4662687  ffffdb17f45b4032b386d691d52e6c00       150843      10        322213   \n4662688  ffffdb17f45b4032b386d691d52e6c00       160164      10        322213   \n4662689  ffffdb17f45b4032b386d691d52e6c00       185412      10        322213   \n\n         vacancy_encoded  \n0                      0  \n1                      1  \n2                      2  \n3                      3  \n4                      4  \n...                  ...  \n4662685           111124  \n4662686           136042  \n4662687            42958  \n4662688            59925  \n4662689            56698  \n\n[4660434 rows x 5 columns]",
      "text/html": "<div>\n<style scoped>\n    .dataframe tbody tr th:only-of-type {\n        vertical-align: middle;\n    }\n\n    .dataframe tbody tr th {\n        vertical-align: top;\n    }\n\n    .dataframe thead th {\n        text-align: right;\n    }\n</style>\n<table border=\"1\" class=\"dataframe\">\n  <thead>\n    <tr style=\"text-align: right;\">\n      <th></th>\n      <th>user_id</th>\n      <th>vacancy_id_</th>\n      <th>rating</th>\n      <th>user_encoded</th>\n      <th>vacancy_encoded</th>\n    </tr>\n  </thead>\n  <tbody>\n    <tr>\n      <th>0</th>\n      <td>000089d26cdd49d68839c68bc10f2cf2</td>\n      <td>177380</td>\n      <td>1</td>\n      <td>0</td>\n      <td>0</td>\n    </tr>\n    <tr>\n      <th>1</th>\n      <td>000089d26cdd49d68839c68bc10f2cf2</td>\n      <td>181353</td>\n      <td>1</td>\n      <td>0</td>\n      <td>1</td>\n    </tr>\n    <tr>\n      <th>2</th>\n      <td>000089d26cdd49d68839c68bc10f2cf2</td>\n      <td>195890</td>\n      <td>1</td>\n      <td>0</td>\n      <td>2</td>\n    </tr>\n    <tr>\n      <th>3</th>\n      <td>000089d26cdd49d68839c68bc10f2cf2</td>\n      <td>205562</td>\n      <td>1</td>\n      <td>0</td>\n      <td>3</td>\n    </tr>\n    <tr>\n      <th>4</th>\n      <td>000089d26cdd49d68839c68bc10f2cf2</td>\n      <td>211064</td>\n      <td>1</td>\n      <td>0</td>\n      <td>4</td>\n    </tr>\n    <tr>\n      <th>...</th>\n      <td>...</td>\n      <td>...</td>\n      <td>...</td>\n      <td>...</td>\n      <td>...</td>\n    </tr>\n    <tr>\n      <th>4662685</th>\n      <td>ffffdb17f45b4032b386d691d52e6c00</td>\n      <td>107125</td>\n      <td>10</td>\n      <td>322213</td>\n      <td>111124</td>\n    </tr>\n    <tr>\n      <th>4662686</th>\n      <td>ffffdb17f45b4032b386d691d52e6c00</td>\n      <td>107893</td>\n      <td>10</td>\n      <td>322213</td>\n      <td>136042</td>\n    </tr>\n    <tr>\n      <th>4662687</th>\n      <td>ffffdb17f45b4032b386d691d52e6c00</td>\n      <td>150843</td>\n      <td>10</td>\n      <td>322213</td>\n      <td>42958</td>\n    </tr>\n    <tr>\n      <th>4662688</th>\n      <td>ffffdb17f45b4032b386d691d52e6c00</td>\n      <td>160164</td>\n      <td>10</td>\n      <td>322213</td>\n      <td>59925</td>\n    </tr>\n    <tr>\n      <th>4662689</th>\n      <td>ffffdb17f45b4032b386d691d52e6c00</td>\n      <td>185412</td>\n      <td>10</td>\n      <td>322213</td>\n      <td>56698</td>\n    </tr>\n  </tbody>\n</table>\n<p>4660434 rows × 5 columns</p>\n</div>"
     },
     "execution_count": 16,
     "metadata": {},
     "output_type": "execute_result"
    }
   ],
   "source": [
    "train"
   ]
  },
  {
   "cell_type": "code",
   "execution_count": null,
   "id": "342cea37",
   "metadata": {
    "pycharm": {
     "is_executing": true
    }
   },
   "outputs": [
    {
     "name": "stderr",
     "output_type": "stream",
     "text": [
      "2023-04-30 18:39:17.615619: W tensorflow/tsl/platform/profile_utils/cpu_utils.cc:128] Failed to get CPU frequency: 0 Hz\n"
     ]
    },
    {
     "name": "stdout",
     "output_type": "stream",
     "text": [
      "Epoch 1/5\n",
      " 27288/145639 [====>.........................] - ETA: 35:33 - loss: 9.7344"
     ]
    }
   ],
   "source": [
    "# train NCF model on training data, embedding size 20, dropout rate as default\n",
    "model = NCF_model(embed_size=20)\n",
    "history = model.fit([train['user_encoded'], train['vacancy_encoded']], train['rating'], epochs=5)\n",
    "\n",
    "pd.Series(history.history['loss']).plot(logy=True)\n",
    "plt.xlabel(\"Epoch\")\n",
    "plt.ylabel(\"Train Error\")\n",
    "plt.show()"
   ]
  },
  {
   "cell_type": "code",
   "execution_count": 78,
   "id": "b502a692",
   "metadata": {},
   "outputs": [],
   "source": [
    "# uncomment to save model as 'dl_model.h5'\n",
    "model.save('dl_model_version_2.h5')"
   ]
  },
  {
   "cell_type": "code",
   "execution_count": 38,
   "id": "b0650ceb",
   "metadata": {},
   "outputs": [],
   "source": [
    "# uncomment to load model\n",
    "from keras.models import load_model\n",
    "model = load_model('dl_model_version_2.h5')"
   ]
  },
  {
   "cell_type": "code",
   "execution_count": 40,
   "id": "fd942028",
   "metadata": {},
   "outputs": [
    {
     "name": "stdout",
     "output_type": "stream",
     "text": [
      "18492/18492 [==============================] - 22s 1ms/step\n",
      "testing rms: 9.471599612450891\n"
     ]
    }
   ],
   "source": [
    "# rmse on testing set \n",
    "y_hat = np.round(model.predict([test['user_encoded'], test['vacancy_encoded']]), decimals=2)\n",
    "y_true = test['rating']\n",
    "print(f'testing rms: {mean_squared_error(y_true, y_hat)}')"
   ]
  },
  {
   "cell_type": "code",
   "execution_count": 41,
   "id": "5f091774",
   "metadata": {},
   "outputs": [
    {
     "data": {
      "text/html": [
       "<div>\n",
       "<style scoped>\n",
       "    .dataframe tbody tr th:only-of-type {\n",
       "        vertical-align: middle;\n",
       "    }\n",
       "\n",
       "    .dataframe tbody tr th {\n",
       "        vertical-align: top;\n",
       "    }\n",
       "\n",
       "    .dataframe thead th {\n",
       "        text-align: right;\n",
       "    }\n",
       "</style>\n",
       "<table border=\"1\" class=\"dataframe\">\n",
       "  <thead>\n",
       "    <tr style=\"text-align: right;\">\n",
       "      <th></th>\n",
       "      <th>prediction</th>\n",
       "      <th>true_value</th>\n",
       "    </tr>\n",
       "  </thead>\n",
       "  <tbody>\n",
       "    <tr>\n",
       "      <th>0</th>\n",
       "      <td>[7.099999904632568]</td>\n",
       "      <td>10</td>\n",
       "    </tr>\n",
       "    <tr>\n",
       "      <th>1</th>\n",
       "      <td>[1.2699999809265137]</td>\n",
       "      <td>1</td>\n",
       "    </tr>\n",
       "    <tr>\n",
       "      <th>2</th>\n",
       "      <td>[1.5800000429153442]</td>\n",
       "      <td>1</td>\n",
       "    </tr>\n",
       "    <tr>\n",
       "      <th>3</th>\n",
       "      <td>[1.3600000143051147]</td>\n",
       "      <td>1</td>\n",
       "    </tr>\n",
       "    <tr>\n",
       "      <th>4</th>\n",
       "      <td>[8.140000343322754]</td>\n",
       "      <td>1</td>\n",
       "    </tr>\n",
       "  </tbody>\n",
       "</table>\n",
       "</div>"
      ],
      "text/plain": [
       "             prediction  true_value\n",
       "0   [7.099999904632568]          10\n",
       "1  [1.2699999809265137]           1\n",
       "2  [1.5800000429153442]           1\n",
       "3  [1.3600000143051147]           1\n",
       "4   [8.140000343322754]           1"
      ]
     },
     "execution_count": 41,
     "metadata": {},
     "output_type": "execute_result"
    }
   ],
   "source": [
    "# prediction sample\n",
    "d = {'prediction': y_hat.tolist(), 'true_value': y_true.values.tolist()}\n",
    "test_pred = pd.DataFrame(d)\n",
    "test_pred.head(5)"
   ]
  },
  {
   "cell_type": "code",
   "execution_count": 81,
   "id": "f5d1fa35",
   "metadata": {},
   "outputs": [],
   "source": [
    "from sklearn.model_selection import KFold\n",
    "\n",
    "# sample 100k from training set as validation set \n",
    "valid_df_size = 100000\n",
    "valid_df = train\n",
    "#.sample(n = int(valid_df_size), replace=False, random_state=123)\n",
    "embedding_layers = [5, 10, 15, 20, 25, 30]"
   ]
  },
  {
   "cell_type": "code",
   "execution_count": 82,
   "id": "22934a20",
   "metadata": {},
   "outputs": [],
   "source": [
    "# input: validation data set, list of embedding layer size, drop-out probability, number of epochs, number of fold\n",
    "# output: list of cv-rmse for each hyperparameter value\n",
    "def NCF_cross_validation(cv_df, eb_layers, drop_prob = 0.2, epoch=10, n_split=4):\n",
    "    cv_result = []\n",
    "\n",
    "    for el in eb_layers:      \n",
    "        temp_loss = []\n",
    "        itr_idx = 0\n",
    "        \n",
    "        for train_idx, test_idx in KFold(n_split).split(cv_df):          \n",
    "            cv_train_x = cv_df.iloc[train_idx][['user_encoded', 'vacancy_encoded']]\n",
    "            cv_test_x = cv_df.iloc[test_idx][['user_encoded', 'vacancy_encoded']]\n",
    "            cv_train_y = cv_df.iloc[train_idx]['rating']\n",
    "            cv_test_y = cv_df.iloc[test_idx]['rating']\n",
    "\n",
    "            model_cv = NCF_model()\n",
    "            model_cv.fit([cv_train_x['user_encoded'], cv_train_x['vacancy_encoded']], cv_train_y, epochs=epoch)\n",
    "\n",
    "            curr_loss = model_cv.evaluate([cv_df['vacancy_encoded'], cv_df['vacancy_encoded']], cv_df['rating'])\n",
    "            temp_loss.append(curr_loss)         \n",
    "            itr_idx += 1\n",
    "            \n",
    "        cv_result.append(sum(temp_loss) / n_split)\n",
    "            \n",
    "    return cv_result"
   ]
  },
  {
   "cell_type": "code",
   "execution_count": 83,
   "id": "3d276662",
   "metadata": {},
   "outputs": [
    {
     "name": "stdout",
     "output_type": "stream",
     "text": [
      "Epoch 1/3\n"
     ]
    },
    {
     "name": "stderr",
     "output_type": "stream",
     "text": [
      "C:\\Users\\Aliaksandr\\anaconda3\\lib\\site-packages\\keras\\optimizers\\legacy\\adam.py:117: UserWarning: The `lr` argument is deprecated, use `learning_rate` instead.\n",
      "  super().__init__(name, **kwargs)\n"
     ]
    },
    {
     "name": "stdout",
     "output_type": "stream",
     "text": [
      "2084/2084 [==============================] - 102s 48ms/step - loss: 11.9247\n",
      "Epoch 2/3\n",
      "2084/2084 [==============================] - 104s 50ms/step - loss: 8.2317\n",
      "Epoch 3/3\n",
      "2084/2084 [==============================] - 109s 52ms/step - loss: 3.0513\n",
      "3125/3125 [==============================] - 5s 1ms/step - loss: 10.8280\n",
      "Epoch 1/3\n"
     ]
    },
    {
     "name": "stderr",
     "output_type": "stream",
     "text": [
      "C:\\Users\\Aliaksandr\\anaconda3\\lib\\site-packages\\keras\\optimizers\\legacy\\adam.py:117: UserWarning: The `lr` argument is deprecated, use `learning_rate` instead.\n",
      "  super().__init__(name, **kwargs)\n"
     ]
    },
    {
     "name": "stdout",
     "output_type": "stream",
     "text": [
      "2084/2084 [==============================] - 112s 53ms/step - loss: 11.9268\n",
      "Epoch 2/3\n",
      "2084/2084 [==============================] - 108s 52ms/step - loss: 7.9735\n",
      "Epoch 3/3\n",
      "2084/2084 [==============================] - 119s 57ms/step - loss: 3.0714\n",
      "3125/3125 [==============================] - 5s 2ms/step - loss: 11.1712\n",
      "Epoch 1/3\n"
     ]
    },
    {
     "name": "stderr",
     "output_type": "stream",
     "text": [
      "C:\\Users\\Aliaksandr\\anaconda3\\lib\\site-packages\\keras\\optimizers\\legacy\\adam.py:117: UserWarning: The `lr` argument is deprecated, use `learning_rate` instead.\n",
      "  super().__init__(name, **kwargs)\n"
     ]
    },
    {
     "name": "stdout",
     "output_type": "stream",
     "text": [
      "2084/2084 [==============================] - 103s 49ms/step - loss: 11.8507\n",
      "Epoch 2/3\n",
      "2084/2084 [==============================] - 100s 48ms/step - loss: 8.1718\n",
      "Epoch 3/3\n",
      "2084/2084 [==============================] - 107s 51ms/step - loss: 2.8586\n",
      "3125/3125 [==============================] - 4s 1ms/step - loss: 11.3619\n",
      "Epoch 1/3\n"
     ]
    },
    {
     "name": "stderr",
     "output_type": "stream",
     "text": [
      "C:\\Users\\Aliaksandr\\anaconda3\\lib\\site-packages\\keras\\optimizers\\legacy\\adam.py:117: UserWarning: The `lr` argument is deprecated, use `learning_rate` instead.\n",
      "  super().__init__(name, **kwargs)\n"
     ]
    },
    {
     "name": "stdout",
     "output_type": "stream",
     "text": [
      "2084/2084 [==============================] - 102s 48ms/step - loss: 11.8652\n",
      "Epoch 2/3\n",
      "2084/2084 [==============================] - 108s 52ms/step - loss: 7.9178\n",
      "Epoch 3/3\n",
      "2084/2084 [==============================] - 100s 48ms/step - loss: 2.8607\n",
      "3125/3125 [==============================] - 5s 1ms/step - loss: 11.6567\n",
      "Epoch 1/3\n"
     ]
    },
    {
     "name": "stderr",
     "output_type": "stream",
     "text": [
      "C:\\Users\\Aliaksandr\\anaconda3\\lib\\site-packages\\keras\\optimizers\\legacy\\adam.py:117: UserWarning: The `lr` argument is deprecated, use `learning_rate` instead.\n",
      "  super().__init__(name, **kwargs)\n"
     ]
    },
    {
     "name": "stdout",
     "output_type": "stream",
     "text": [
      "2084/2084 [==============================] - 98s 46ms/step - loss: 11.9174\n",
      "Epoch 2/3\n",
      "2084/2084 [==============================] - 99s 47ms/step - loss: 5.8551\n",
      "Epoch 3/3\n",
      "2084/2084 [==============================] - 99s 48ms/step - loss: 3.7425\n",
      "3125/3125 [==============================] - 5s 1ms/step - loss: 11.3562\n",
      "Epoch 1/3\n"
     ]
    },
    {
     "name": "stderr",
     "output_type": "stream",
     "text": [
      "C:\\Users\\Aliaksandr\\anaconda3\\lib\\site-packages\\keras\\optimizers\\legacy\\adam.py:117: UserWarning: The `lr` argument is deprecated, use `learning_rate` instead.\n",
      "  super().__init__(name, **kwargs)\n"
     ]
    },
    {
     "name": "stdout",
     "output_type": "stream",
     "text": [
      "2084/2084 [==============================] - 103s 49ms/step - loss: 11.8774\n",
      "Epoch 2/3\n",
      "2084/2084 [==============================] - 103s 49ms/step - loss: 6.5940\n",
      "Epoch 3/3\n",
      "2084/2084 [==============================] - 104s 50ms/step - loss: 3.6645\n",
      "3125/3125 [==============================] - 4s 1ms/step - loss: 11.0519\n",
      "Epoch 1/3\n"
     ]
    },
    {
     "name": "stderr",
     "output_type": "stream",
     "text": [
      "C:\\Users\\Aliaksandr\\anaconda3\\lib\\site-packages\\keras\\optimizers\\legacy\\adam.py:117: UserWarning: The `lr` argument is deprecated, use `learning_rate` instead.\n",
      "  super().__init__(name, **kwargs)\n"
     ]
    },
    {
     "name": "stdout",
     "output_type": "stream",
     "text": [
      "2084/2084 [==============================] - 100s 47ms/step - loss: 11.9183\n",
      "Epoch 2/3\n",
      "2084/2084 [==============================] - 100s 48ms/step - loss: 5.9535\n",
      "Epoch 3/3\n",
      "2084/2084 [==============================] - 100s 48ms/step - loss: 3.7138\n",
      "3125/3125 [==============================] - 4s 1ms/step - loss: 11.0329\n",
      "Epoch 1/3\n"
     ]
    },
    {
     "name": "stderr",
     "output_type": "stream",
     "text": [
      "C:\\Users\\Aliaksandr\\anaconda3\\lib\\site-packages\\keras\\optimizers\\legacy\\adam.py:117: UserWarning: The `lr` argument is deprecated, use `learning_rate` instead.\n",
      "  super().__init__(name, **kwargs)\n"
     ]
    },
    {
     "name": "stdout",
     "output_type": "stream",
     "text": [
      "2084/2084 [==============================] - 100s 47ms/step - loss: 12.0147\n",
      "Epoch 2/3\n",
      "2084/2084 [==============================] - 100s 48ms/step - loss: 7.1017\n",
      "Epoch 3/3\n",
      "2084/2084 [==============================] - 100s 48ms/step - loss: 3.4468\n",
      "3125/3125 [==============================] - 4s 1ms/step - loss: 10.9426\n",
      "Epoch 1/3\n"
     ]
    },
    {
     "name": "stderr",
     "output_type": "stream",
     "text": [
      "C:\\Users\\Aliaksandr\\anaconda3\\lib\\site-packages\\keras\\optimizers\\legacy\\adam.py:117: UserWarning: The `lr` argument is deprecated, use `learning_rate` instead.\n",
      "  super().__init__(name, **kwargs)\n"
     ]
    },
    {
     "name": "stdout",
     "output_type": "stream",
     "text": [
      "2084/2084 [==============================] - 99s 47ms/step - loss: 11.9125\n",
      "Epoch 2/3\n",
      "2084/2084 [==============================] - 99s 47ms/step - loss: 9.3481\n",
      "Epoch 3/3\n",
      "2084/2084 [==============================] - 99s 47ms/step - loss: 2.6730\n",
      "3125/3125 [==============================] - 4s 1ms/step - loss: 11.2451\n",
      "Epoch 1/3\n"
     ]
    },
    {
     "name": "stderr",
     "output_type": "stream",
     "text": [
      "C:\\Users\\Aliaksandr\\anaconda3\\lib\\site-packages\\keras\\optimizers\\legacy\\adam.py:117: UserWarning: The `lr` argument is deprecated, use `learning_rate` instead.\n",
      "  super().__init__(name, **kwargs)\n"
     ]
    },
    {
     "name": "stdout",
     "output_type": "stream",
     "text": [
      "2084/2084 [==============================] - 100s 47ms/step - loss: 11.9213\n",
      "Epoch 2/3\n",
      "2084/2084 [==============================] - 99s 47ms/step - loss: 9.3508\n",
      "Epoch 3/3\n",
      "2084/2084 [==============================] - 99s 48ms/step - loss: 2.5391\n",
      "3125/3125 [==============================] - 4s 1ms/step - loss: 11.4749\n",
      "Epoch 1/3\n"
     ]
    },
    {
     "name": "stderr",
     "output_type": "stream",
     "text": [
      "C:\\Users\\Aliaksandr\\anaconda3\\lib\\site-packages\\keras\\optimizers\\legacy\\adam.py:117: UserWarning: The `lr` argument is deprecated, use `learning_rate` instead.\n",
      "  super().__init__(name, **kwargs)\n"
     ]
    },
    {
     "name": "stdout",
     "output_type": "stream",
     "text": [
      "2084/2084 [==============================] - 99s 47ms/step - loss: 11.9398\n",
      "Epoch 2/3\n",
      "2084/2084 [==============================] - 98s 47ms/step - loss: 9.1733\n",
      "Epoch 3/3\n",
      "2084/2084 [==============================] - 98s 47ms/step - loss: 2.7090\n",
      "3125/3125 [==============================] - 4s 1ms/step - loss: 11.3365\n",
      "Epoch 1/3\n"
     ]
    },
    {
     "name": "stderr",
     "output_type": "stream",
     "text": [
      "C:\\Users\\Aliaksandr\\anaconda3\\lib\\site-packages\\keras\\optimizers\\legacy\\adam.py:117: UserWarning: The `lr` argument is deprecated, use `learning_rate` instead.\n",
      "  super().__init__(name, **kwargs)\n"
     ]
    },
    {
     "name": "stdout",
     "output_type": "stream",
     "text": [
      "2084/2084 [==============================] - 100s 47ms/step - loss: 11.8711\n",
      "Epoch 2/3\n",
      "2084/2084 [==============================] - 100s 48ms/step - loss: 7.5818\n",
      "Epoch 3/3\n",
      "2084/2084 [==============================] - 99s 48ms/step - loss: 3.2770\n",
      "3125/3125 [==============================] - 5s 1ms/step - loss: 11.4048\n",
      "Epoch 1/3\n"
     ]
    },
    {
     "name": "stderr",
     "output_type": "stream",
     "text": [
      "C:\\Users\\Aliaksandr\\anaconda3\\lib\\site-packages\\keras\\optimizers\\legacy\\adam.py:117: UserWarning: The `lr` argument is deprecated, use `learning_rate` instead.\n",
      "  super().__init__(name, **kwargs)\n"
     ]
    },
    {
     "name": "stdout",
     "output_type": "stream",
     "text": [
      "2084/2084 [==============================] - 99s 47ms/step - loss: 11.8942\n",
      "Epoch 2/3\n",
      "2084/2084 [==============================] - 99s 47ms/step - loss: 6.5410\n",
      "Epoch 3/3\n",
      "2084/2084 [==============================] - 99s 47ms/step - loss: 3.6215\n",
      "3125/3125 [==============================] - 5s 1ms/step - loss: 11.1455\n",
      "Epoch 1/3\n"
     ]
    },
    {
     "name": "stderr",
     "output_type": "stream",
     "text": [
      "C:\\Users\\Aliaksandr\\anaconda3\\lib\\site-packages\\keras\\optimizers\\legacy\\adam.py:117: UserWarning: The `lr` argument is deprecated, use `learning_rate` instead.\n",
      "  super().__init__(name, **kwargs)\n"
     ]
    },
    {
     "name": "stdout",
     "output_type": "stream",
     "text": [
      "2084/2084 [==============================] - 99s 47ms/step - loss: 11.9170\n",
      "Epoch 2/3\n",
      "2084/2084 [==============================] - 109s 52ms/step - loss: 5.5110\n",
      "Epoch 3/3\n",
      "2084/2084 [==============================] - 109s 52ms/step - loss: 3.7127\n",
      "3125/3125 [==============================] - 5s 2ms/step - loss: 11.1060\n",
      "Epoch 1/3\n"
     ]
    },
    {
     "name": "stderr",
     "output_type": "stream",
     "text": [
      "C:\\Users\\Aliaksandr\\anaconda3\\lib\\site-packages\\keras\\optimizers\\legacy\\adam.py:117: UserWarning: The `lr` argument is deprecated, use `learning_rate` instead.\n",
      "  super().__init__(name, **kwargs)\n"
     ]
    },
    {
     "name": "stdout",
     "output_type": "stream",
     "text": [
      "2084/2084 [==============================] - 103s 49ms/step - loss: 11.8463\n",
      "Epoch 2/3\n",
      "2084/2084 [==============================] - 123s 59ms/step - loss: 8.1939\n",
      "Epoch 3/3\n",
      "2084/2084 [==============================] - 124s 60ms/step - loss: 2.6279\n",
      "3125/3125 [==============================] - 7s 2ms/step - loss: 11.2322\n",
      "Epoch 1/3\n"
     ]
    },
    {
     "name": "stderr",
     "output_type": "stream",
     "text": [
      "C:\\Users\\Aliaksandr\\anaconda3\\lib\\site-packages\\keras\\optimizers\\legacy\\adam.py:117: UserWarning: The `lr` argument is deprecated, use `learning_rate` instead.\n",
      "  super().__init__(name, **kwargs)\n"
     ]
    },
    {
     "name": "stdout",
     "output_type": "stream",
     "text": [
      "2084/2084 [==============================] - 120s 57ms/step - loss: 11.9070\n",
      "Epoch 2/3\n",
      "2084/2084 [==============================] - 119s 57ms/step - loss: 8.8396\n",
      "Epoch 3/3\n",
      "2084/2084 [==============================] - 106s 51ms/step - loss: 2.6801\n",
      "3125/3125 [==============================] - 4s 1ms/step - loss: 11.3026\n",
      "Epoch 1/3\n"
     ]
    },
    {
     "name": "stderr",
     "output_type": "stream",
     "text": [
      "C:\\Users\\Aliaksandr\\anaconda3\\lib\\site-packages\\keras\\optimizers\\legacy\\adam.py:117: UserWarning: The `lr` argument is deprecated, use `learning_rate` instead.\n",
      "  super().__init__(name, **kwargs)\n"
     ]
    },
    {
     "name": "stdout",
     "output_type": "stream",
     "text": [
      "2084/2084 [==============================] - 104s 49ms/step - loss: 11.8764\n",
      "Epoch 2/3\n",
      "2084/2084 [==============================] - 106s 51ms/step - loss: 7.4445\n",
      "Epoch 3/3\n",
      "2084/2084 [==============================] - 108s 52ms/step - loss: 2.8347\n",
      "3125/3125 [==============================] - 4s 1ms/step - loss: 10.9535\n",
      "Epoch 1/3\n"
     ]
    },
    {
     "name": "stderr",
     "output_type": "stream",
     "text": [
      "C:\\Users\\Aliaksandr\\anaconda3\\lib\\site-packages\\keras\\optimizers\\legacy\\adam.py:117: UserWarning: The `lr` argument is deprecated, use `learning_rate` instead.\n",
      "  super().__init__(name, **kwargs)\n"
     ]
    },
    {
     "name": "stdout",
     "output_type": "stream",
     "text": [
      "2084/2084 [==============================] - 131s 62ms/step - loss: 11.8939\n",
      "Epoch 2/3\n",
      "2084/2084 [==============================] - 124s 60ms/step - loss: 8.3241\n",
      "Epoch 3/3\n",
      "2084/2084 [==============================] - 121s 58ms/step - loss: 2.6796\n",
      "3125/3125 [==============================] - 5s 2ms/step - loss: 11.6432\n"
     ]
    }
   ],
   "source": [
    "cv_result = NCF_cross_validation(valid_df, embedding_layers)"
   ]
  },
  {
   "cell_type": "code",
   "execution_count": 84,
   "id": "6e27ab6a",
   "metadata": {},
   "outputs": [
    {
     "data": {
      "text/plain": [
       "[Text(0.5, 0, 'Embedding Dim'),\n",
       " Text(0, 0.5, 'CV rmse'),\n",
       " Text(0.5, 1.0, '3-Fold CV')]"
      ]
     },
     "execution_count": 84,
     "metadata": {},
     "output_type": "execute_result"
    },
    {
     "data": {
      "image/png": "[encoded data removed]",
      "text/plain": [
       "<Figure size 800x600 with 1 Axes>"
      ]
     },
     "metadata": {},
     "output_type": "display_data"
    }
   ],
   "source": [
    "cv_result_df = pd.DataFrame({'cv_rmse': cv_result}, index = embedding_layers)\n",
    "\n",
    "fig, ax = plt.subplots(figsize=(8, 6))\n",
    "sns.set_style('whitegrid')\n",
    "sns.pointplot(x=cv_result_df.index, y=cv_result_df.cv_rmse, ax=ax)\n",
    "ax.set(xlabel='Embedding Dim', ylabel='CV rmse', title='3-Fold CV')"
   ]
  },
  {
   "cell_type": "markdown",
   "id": "ace99da8",
   "metadata": {},
   "source": [
    "**Top 20 recommendations**"
   ]
  },
  {
   "cell_type": "code",
   "execution_count": 23,
   "id": "9bc3edcd",
   "metadata": {},
   "outputs": [],
   "source": [
    "# input: a recommendation model (keras model), user id, number of recommendation\n",
    "# output: a dataframe of top-k recommendations along with movie information\n",
    "def NCF_recommendation(rec_model, client_id, top_k = 20):\n",
    "    client_encoded = user2user_encoded[client_id]\n",
    "    vacancy_watched = sample_df[sample_df['user_id'] == client_id]['vacancy_id_'].values\n",
    "    \n",
    "    vacancy_poll_encoded = []\n",
    "    for item in vacancy_ids:\n",
    "        if not np.isin(item, vacancy_watched):\n",
    "            vacancy_poll_encoded.append(vacancy2vacancy_encoded[item])\n",
    "            \n",
    "    d = {'user_encoded': [client_encoded] * len(vacancy_poll_encoded), 'vacancy_encoded' : vacancy_poll_encoded}\n",
    "    client_df = pd.DataFrame(d)\n",
    "    \n",
    "    ratings = rec_model.predict([client_df['user_encoded'], client_df['vacancy_encoded']])\n",
    "    \n",
    "    top_ratings_idx = ratings.flatten().argsort()[-top_k:][::-1]\n",
    "    top_ratings = ratings[top_ratings_idx].flatten()\n",
    "    recommend_vacancy = [vacancy_encoded2vacancy.get(vacancy_poll_encoded[x]) for x in top_ratings_idx]\n",
    "    \n",
    "    top_vacancy_rec = pd.DataFrame({'vacancy_id_': recommend_vacancy, 'prediction': top_ratings}).set_index('vacancy_id_')\n",
    "    \n",
    "\n",
    "    return top_vacancy_rec "
   ]
  },
  {
   "cell_type": "code",
   "execution_count": 61,
   "id": "ccca7bfa",
   "metadata": {},
   "outputs": [
    {
     "name": "stdout",
     "output_type": "stream",
     "text": [
      "recommendation for client: 84c24e67736849a6b9b99a81fbd179ca\n",
      "4795/4795 [==============================] - 6s 1ms/step\n"
     ]
    },
    {
     "data": {
      "text/html": [
       "<div>\n",
       "<style scoped>\n",
       "    .dataframe tbody tr th:only-of-type {\n",
       "        vertical-align: middle;\n",
       "    }\n",
       "\n",
       "    .dataframe tbody tr th {\n",
       "        vertical-align: top;\n",
       "    }\n",
       "\n",
       "    .dataframe thead th {\n",
       "        text-align: right;\n",
       "    }\n",
       "</style>\n",
       "<table border=\"1\" class=\"dataframe\">\n",
       "  <thead>\n",
       "    <tr style=\"text-align: right;\">\n",
       "      <th></th>\n",
       "      <th>prediction</th>\n",
       "    </tr>\n",
       "    <tr>\n",
       "      <th>vacancy_id_</th>\n",
       "      <th></th>\n",
       "    </tr>\n",
       "  </thead>\n",
       "  <tbody>\n",
       "    <tr>\n",
       "      <th>207098</th>\n",
       "      <td>13.083969</td>\n",
       "    </tr>\n",
       "    <tr>\n",
       "      <th>122785</th>\n",
       "      <td>13.020906</td>\n",
       "    </tr>\n",
       "    <tr>\n",
       "      <th>244550</th>\n",
       "      <td>12.872283</td>\n",
       "    </tr>\n",
       "    <tr>\n",
       "      <th>180640</th>\n",
       "      <td>12.821929</td>\n",
       "    </tr>\n",
       "    <tr>\n",
       "      <th>217648</th>\n",
       "      <td>12.638739</td>\n",
       "    </tr>\n",
       "  </tbody>\n",
       "</table>\n",
       "</div>"
      ],
      "text/plain": [
       "             prediction\n",
       "vacancy_id_            \n",
       "207098        13.083969\n",
       "122785        13.020906\n",
       "244550        12.872283\n",
       "180640        12.821929\n",
       "217648        12.638739"
      ]
     },
     "execution_count": 61,
     "metadata": {},
     "output_type": "execute_result"
    }
   ],
   "source": [
    "#client_id = int(np.random.choice(user_ids, 1))\n",
    "print(f'recommendation for client: {client_id}')\n",
    "NCF_recommendation(model, client_id, top_k=5)"
   ]
  },
  {
   "cell_type": "code",
   "execution_count": null,
   "id": "9fa62ca9",
   "metadata": {},
   "outputs": [],
   "source": []
  }
 ],
 "metadata": {
  "kernelspec": {
   "display_name": "Python 3 (ipykernel)",
   "language": "python",
   "name": "python3"
  },
  "language_info": {
   "codemirror_mode": {
    "name": "ipython",
    "version": 3
   },
   "file_extension": ".py",
   "mimetype": "text/x-python",
   "name": "python",
   "nbconvert_exporter": "python",
   "pygments_lexer": "ipython3",
   "version": "3.9.13"
  }
 },
 "nbformat": 4,
 "nbformat_minor": 5
}
