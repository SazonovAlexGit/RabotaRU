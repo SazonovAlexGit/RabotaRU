{
 "cells": [
  {
   "cell_type": "code",
   "execution_count": 4,
   "id": "bbaf9c0c",
   "metadata": {},
   "outputs": [],
   "source": [
    "import pandas as pd\n",
    "import numpy as np\n",
    "import sklearn\n",
    "import datetime\n",
    "from sklearn.model_selection import train_test_split\n",
    "import matplotlib.pyplot as plt\n",
    "import seaborn as sns\n",
    "import pyarrow.parquet as pq\n",
    "\n",
    "from surprise import Reader, SVD, Dataset, accuracy\n",
    "from surprise.model_selection import GridSearchCV, train_test_split, cross_validate\n",
    "from surprise import Reader, Dataset\n",
    "from surprise import KNNBaseline\n",
    "from surprise.model_selection import GridSearchCV\n",
    "\n",
    "from surprise import SVD, BaselineOnly, CoClustering\n",
    "\n",
    "from tqdm import tqdm\n",
    "import pickle\n",
    "from surprise import dump"
   ]
  },
  {
   "cell_type": "code",
   "execution_count": 6,
   "id": "3986bb79",
   "metadata": {},
   "outputs": [],
   "source": [
    "train = pq.read_table('train_without_None.gzip').to_pandas()\n",
    "\n",
    "test_private = pq.read_table('test_private_users_mfti.parquet ').to_pandas()"
   ]
  },
  {
   "cell_type": "code",
   "execution_count": 10,
   "id": "45e748e3",
   "metadata": {},
   "outputs": [],
   "source": [
    "#Load the model from disk\n",
    "predictions, algo = dump.load('./dump_file')"
   ]
  },
  {
   "cell_type": "code",
   "execution_count": 7,
   "id": "5f9d5fa7",
   "metadata": {},
   "outputs": [],
   "source": [
    "def generate_testset(user_id_, vacancy_ids_to_pred):\n",
    "    return [(user_id_, vacancy_id, 0) for vacancy_id in vacancy_ids_to_pred]"
   ]
  },
  {
   "cell_type": "code",
   "execution_count": 26,
   "id": "9f5bfc3a",
   "metadata": {},
   "outputs": [],
   "source": [
    "def prepare_date(train, test_private, model):\n",
    "    \n",
    "    # создаем словарь cookie:user и создаем новый столбец в тесте соответсвующий user_id\n",
    "    \n",
    "    dict_cookie_to_user={i:j for i,j in zip(train.cookie_id, train.user_id_filled)}\n",
    "    test_private['user_id']=test_private.cookie_id.apply(lambda x: dict_cookie_to_user[x])\n",
    "\n",
    "    \n",
    "    #собираем информацией о всех вакансиях которые смотрел user\n",
    "    \n",
    "    # по информации с вакансиями по которым были сделаны действия пользователя,\n",
    "    # имеющими в истории действия по вакансиям, которые смотрел наш пользователь\n",
    "    \n",
    "    n_items=5\n",
    "    new_column=[]\n",
    "    \n",
    "    for i in tqdm(range(len(test_private))):\n",
    "           \n",
    "        user_saw=set(train.loc[train[\"user_id_filled\"] == test_private.user_id[i], \"vacancy_id_\"])\n",
    "        all_same_user=list(train.user_id_filled[train.vacancy_id_.isin(user_saw)])\n",
    "        all_vacansy_saw_same_user=list(train.vacancy_id_[train.user_id_filled.isin(all_same_user)])\n",
    "        \n",
    "        \n",
    "        test_set=generate_testset(test_private['user_id'][i], (set(all_vacansy_saw_same_user)-user_saw))\n",
    "        #предсказание\n",
    "        predictions = model.test(test_set)\n",
    "\n",
    "        #топ n лучшие вакансии на основе предсказанных рейтингов\n",
    "        pred_ratings = np.array([pred.est for pred in predictions])   \n",
    "        index_max = (-pred_ratings).argsort()[:n_items]\n",
    "        \n",
    "        new_column.append(np.array(list(set(all_vacansy_saw_same_user)-user_saw))[index_max])\n",
    "    \n",
    "    test_private['testset']=new_column\n",
    "\n",
    "    \n",
    "    \n",
    "    return test_private"
   ]
  },
  {
   "cell_type": "code",
   "execution_count": 16,
   "id": "ef835dc6",
   "metadata": {},
   "outputs": [],
   "source": [
    "def generate_recommendation(model, user_id_, vacancy_ids_to_pred, n_items):\n",
    "\n",
    "    test_set = [(user_id_, vacancy_id, 0) for vacancy_id in vacancy_ids_to_pred]\n",
    "\n",
    "    #предсказание\n",
    "    predictions = model.test(test_set)\n",
    "\n",
    "    #топ n лучшие вакансии на основе предсказанных рейтингов\n",
    "    pred_ratings = np.array([pred.est for pred in predictions])   \n",
    "    index_max = (-pred_ratings).argsort()[:n_items]\n",
    "\n",
    "    return vacancy_ids_to_pred[index_max]"
   ]
  },
  {
   "cell_type": "code",
   "execution_count": 27,
   "id": "c2446f8f",
   "metadata": {},
   "outputs": [
    {
     "name": "stderr",
     "output_type": "stream",
     "text": [
      "100%|██████████| 3086/3086 [1:59:32<00:00,  2.32s/it]  \n"
     ]
    }
   ],
   "source": [
    "test_after_prepare=prepare_date(train, test_private, algo)"
   ]
  },
  {
   "cell_type": "code",
   "execution_count": 30,
   "id": "88a18df8",
   "metadata": {},
   "outputs": [
    {
     "data": {
      "text/html": [
       "<div>\n",
       "<style scoped>\n",
       "    .dataframe tbody tr th:only-of-type {\n",
       "        vertical-align: middle;\n",
       "    }\n",
       "\n",
       "    .dataframe tbody tr th {\n",
       "        vertical-align: top;\n",
       "    }\n",
       "\n",
       "    .dataframe thead th {\n",
       "        text-align: right;\n",
       "    }\n",
       "</style>\n",
       "<table border=\"1\" class=\"dataframe\">\n",
       "  <thead>\n",
       "    <tr style=\"text-align: right;\">\n",
       "      <th></th>\n",
       "      <th>cookie_id</th>\n",
       "      <th>vacancy_id_</th>\n",
       "    </tr>\n",
       "  </thead>\n",
       "  <tbody>\n",
       "    <tr>\n",
       "      <th>0</th>\n",
       "      <td>0018914ba3e54011b28fa715583d3354</td>\n",
       "      <td>[208285, 233668, 246521, 180382, 174953]</td>\n",
       "    </tr>\n",
       "    <tr>\n",
       "      <th>1</th>\n",
       "      <td>0035c298d8c64f368ae730a9cca9bb20</td>\n",
       "      <td>[180382, 174953, 221920, 224323, 193372]</td>\n",
       "    </tr>\n",
       "    <tr>\n",
       "      <th>2</th>\n",
       "      <td>00956458877448ec9fba87fb97443fdf</td>\n",
       "      <td>[184067, 122785, 164086, 233668, 182044]</td>\n",
       "    </tr>\n",
       "    <tr>\n",
       "      <th>3</th>\n",
       "      <td>0099387c921b41e7bae6c99dd8254b60</td>\n",
       "      <td>[239245, 233668, 246521, 253555, 180382]</td>\n",
       "    </tr>\n",
       "    <tr>\n",
       "      <th>4</th>\n",
       "      <td>009f65e8ae99413a8da94a491320580a</td>\n",
       "      <td>[103320, 180382, 157311, 174953, 221920]</td>\n",
       "    </tr>\n",
       "    <tr>\n",
       "      <th>...</th>\n",
       "      <td>...</td>\n",
       "      <td>...</td>\n",
       "    </tr>\n",
       "    <tr>\n",
       "      <th>3081</th>\n",
       "      <td>ffadd195859444d2ade2479b0611c5c1</td>\n",
       "      <td>[239245, 184067, 164591, 230397, 178460]</td>\n",
       "    </tr>\n",
       "    <tr>\n",
       "      <th>3082</th>\n",
       "      <td>ffbc08b528c64f22996873fc63872202</td>\n",
       "      <td>[184067, 200208, 182044, 246521, 180382]</td>\n",
       "    </tr>\n",
       "    <tr>\n",
       "      <th>3083</th>\n",
       "      <td>ffdeaf3c34544529880aebf17c103f6c</td>\n",
       "      <td>[122785, 220169, 200200, 181459, 180473]</td>\n",
       "    </tr>\n",
       "    <tr>\n",
       "      <th>3084</th>\n",
       "      <td>ffefa79a74804ee69e6c131e0d05b948</td>\n",
       "      <td>[239245, 184067, 164591, 122785, 200208]</td>\n",
       "    </tr>\n",
       "    <tr>\n",
       "      <th>3085</th>\n",
       "      <td>fff0c04c0cd54c67bb5fd79ae7b1145b</td>\n",
       "      <td>[201679, 184067, 208285, 122785, 164086]</td>\n",
       "    </tr>\n",
       "  </tbody>\n",
       "</table>\n",
       "<p>3086 rows × 2 columns</p>\n",
       "</div>"
      ],
      "text/plain": [
       "                             cookie_id  \\\n",
       "0     0018914ba3e54011b28fa715583d3354   \n",
       "1     0035c298d8c64f368ae730a9cca9bb20   \n",
       "2     00956458877448ec9fba87fb97443fdf   \n",
       "3     0099387c921b41e7bae6c99dd8254b60   \n",
       "4     009f65e8ae99413a8da94a491320580a   \n",
       "...                                ...   \n",
       "3081  ffadd195859444d2ade2479b0611c5c1   \n",
       "3082  ffbc08b528c64f22996873fc63872202   \n",
       "3083  ffdeaf3c34544529880aebf17c103f6c   \n",
       "3084  ffefa79a74804ee69e6c131e0d05b948   \n",
       "3085  fff0c04c0cd54c67bb5fd79ae7b1145b   \n",
       "\n",
       "                                   vacancy_id_  \n",
       "0     [208285, 233668, 246521, 180382, 174953]  \n",
       "1     [180382, 174953, 221920, 224323, 193372]  \n",
       "2     [184067, 122785, 164086, 233668, 182044]  \n",
       "3     [239245, 233668, 246521, 253555, 180382]  \n",
       "4     [103320, 180382, 157311, 174953, 221920]  \n",
       "...                                        ...  \n",
       "3081  [239245, 184067, 164591, 230397, 178460]  \n",
       "3082  [184067, 200208, 182044, 246521, 180382]  \n",
       "3083  [122785, 220169, 200200, 181459, 180473]  \n",
       "3084  [239245, 184067, 164591, 122785, 200208]  \n",
       "3085  [201679, 184067, 208285, 122785, 164086]  \n",
       "\n",
       "[3086 rows x 2 columns]"
      ]
     },
     "execution_count": 30,
     "metadata": {},
     "output_type": "execute_result"
    }
   ],
   "source": [
    "df=pd.DataFrame(list(zip( test_after_prepare.cookie_id, test_after_prepare.testset)), columns = ['cookie_id', 'vacancy_id_'])\n",
    "df"
   ]
  },
  {
   "cell_type": "code",
   "execution_count": 32,
   "id": "af086917",
   "metadata": {},
   "outputs": [],
   "source": [
    "df.to_parquet(f'test_private_users_mfti_predict_surpice.parquet')"
   ]
  }
 ],
 "metadata": {
  "kernelspec": {
   "display_name": "Python 3 (ipykernel)",
   "language": "python",
   "name": "python3"
  },
  "language_info": {
   "codemirror_mode": {
    "name": "ipython",
    "version": 3
   },
   "file_extension": ".py",
   "mimetype": "text/x-python",
   "name": "python",
   "nbconvert_exporter": "python",
   "pygments_lexer": "ipython3",
   "version": "3.9.13"
  }
 },
 "nbformat": 4,
 "nbformat_minor": 5
}
