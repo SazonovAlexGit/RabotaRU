{
 "cells": [
  {
   "cell_type": "code",
   "execution_count": 14,
   "id": "4b8ff0e7",
   "metadata": {},
   "outputs": [],
   "source": [
    "import pandas as pd\n",
    "import numpy as np\n",
    "import sklearn\n",
    "import datetime\n",
    "from sklearn.model_selection import train_test_split\n",
    "import matplotlib.pyplot as plt\n",
    "import seaborn as sns\n",
    "import pyarrow.parquet as pq\n",
    "\n",
    "from surprise import Reader, SVD, Dataset, accuracy\n",
    "from surprise.model_selection import GridSearchCV, train_test_split, cross_validate\n",
    "from surprise import Reader, Dataset\n",
    "from surprise import KNNBaseline\n",
    "from surprise.model_selection import GridSearchCV\n",
    "\n",
    "from surprise import SVD, BaselineOnly, CoClustering\n",
    "\n",
    "from tqdm import tqdm\n",
    "import pickle\n",
    "import itertools\n",
    "from surprise import dump"
   ]
  },
  {
   "cell_type": "code",
   "execution_count": 2,
   "id": "a7d8e4ef",
   "metadata": {},
   "outputs": [],
   "source": [
    "train_group = pd.read_pickle('train_group_add_cookie.pickle')"
   ]
  },
  {
   "cell_type": "code",
   "execution_count": 3,
   "id": "be298f4a",
   "metadata": {},
   "outputs": [
    {
     "data": {
      "text/html": [
       "<div>\n",
       "<style scoped>\n",
       "    .dataframe tbody tr th:only-of-type {\n",
       "        vertical-align: middle;\n",
       "    }\n",
       "\n",
       "    .dataframe tbody tr th {\n",
       "        vertical-align: top;\n",
       "    }\n",
       "\n",
       "    .dataframe thead th {\n",
       "        text-align: right;\n",
       "    }\n",
       "</style>\n",
       "<table border=\"1\" class=\"dataframe\">\n",
       "  <thead>\n",
       "    <tr style=\"text-align: right;\">\n",
       "      <th></th>\n",
       "      <th>user_id</th>\n",
       "      <th>vacancy_id_</th>\n",
       "      <th>rating</th>\n",
       "    </tr>\n",
       "  </thead>\n",
       "  <tbody>\n",
       "    <tr>\n",
       "      <th>0</th>\n",
       "      <td>000089d26cdd49d68839c68bc10f2cf2</td>\n",
       "      <td>177380</td>\n",
       "      <td>1</td>\n",
       "    </tr>\n",
       "    <tr>\n",
       "      <th>1</th>\n",
       "      <td>000089d26cdd49d68839c68bc10f2cf2</td>\n",
       "      <td>181353</td>\n",
       "      <td>1</td>\n",
       "    </tr>\n",
       "    <tr>\n",
       "      <th>2</th>\n",
       "      <td>000089d26cdd49d68839c68bc10f2cf2</td>\n",
       "      <td>195890</td>\n",
       "      <td>1</td>\n",
       "    </tr>\n",
       "    <tr>\n",
       "      <th>3</th>\n",
       "      <td>000089d26cdd49d68839c68bc10f2cf2</td>\n",
       "      <td>205562</td>\n",
       "      <td>1</td>\n",
       "    </tr>\n",
       "    <tr>\n",
       "      <th>4</th>\n",
       "      <td>000089d26cdd49d68839c68bc10f2cf2</td>\n",
       "      <td>211064</td>\n",
       "      <td>1</td>\n",
       "    </tr>\n",
       "    <tr>\n",
       "      <th>...</th>\n",
       "      <td>...</td>\n",
       "      <td>...</td>\n",
       "      <td>...</td>\n",
       "    </tr>\n",
       "    <tr>\n",
       "      <th>4662685</th>\n",
       "      <td>ffffdb17f45b4032b386d691d52e6c00</td>\n",
       "      <td>107125</td>\n",
       "      <td>10</td>\n",
       "    </tr>\n",
       "    <tr>\n",
       "      <th>4662686</th>\n",
       "      <td>ffffdb17f45b4032b386d691d52e6c00</td>\n",
       "      <td>107893</td>\n",
       "      <td>10</td>\n",
       "    </tr>\n",
       "    <tr>\n",
       "      <th>4662687</th>\n",
       "      <td>ffffdb17f45b4032b386d691d52e6c00</td>\n",
       "      <td>150843</td>\n",
       "      <td>10</td>\n",
       "    </tr>\n",
       "    <tr>\n",
       "      <th>4662688</th>\n",
       "      <td>ffffdb17f45b4032b386d691d52e6c00</td>\n",
       "      <td>160164</td>\n",
       "      <td>10</td>\n",
       "    </tr>\n",
       "    <tr>\n",
       "      <th>4662689</th>\n",
       "      <td>ffffdb17f45b4032b386d691d52e6c00</td>\n",
       "      <td>185412</td>\n",
       "      <td>10</td>\n",
       "    </tr>\n",
       "  </tbody>\n",
       "</table>\n",
       "<p>4662690 rows × 3 columns</p>\n",
       "</div>"
      ],
      "text/plain": [
       "                                  user_id  vacancy_id_  rating\n",
       "0        000089d26cdd49d68839c68bc10f2cf2       177380       1\n",
       "1        000089d26cdd49d68839c68bc10f2cf2       181353       1\n",
       "2        000089d26cdd49d68839c68bc10f2cf2       195890       1\n",
       "3        000089d26cdd49d68839c68bc10f2cf2       205562       1\n",
       "4        000089d26cdd49d68839c68bc10f2cf2       211064       1\n",
       "...                                   ...          ...     ...\n",
       "4662685  ffffdb17f45b4032b386d691d52e6c00       107125      10\n",
       "4662686  ffffdb17f45b4032b386d691d52e6c00       107893      10\n",
       "4662687  ffffdb17f45b4032b386d691d52e6c00       150843      10\n",
       "4662688  ffffdb17f45b4032b386d691d52e6c00       160164      10\n",
       "4662689  ffffdb17f45b4032b386d691d52e6c00       185412      10\n",
       "\n",
       "[4662690 rows x 3 columns]"
      ]
     },
     "execution_count": 3,
     "metadata": {},
     "output_type": "execute_result"
    }
   ],
   "source": [
    "user_id=train_group.index.get_level_values(0)\n",
    "vacancy_id_=train_group.index.get_level_values(1)\n",
    "data = pd.DataFrame(list(zip( user_id, vacancy_id_, train_group['event_type'].to_list())), columns = ['user_id', 'vacancy_id_', 'rating'])\n",
    "\n",
    "data"
   ]
  },
  {
   "cell_type": "code",
   "execution_count": 4,
   "id": "3b958330",
   "metadata": {},
   "outputs": [
    {
     "name": "stdout",
     "output_type": "stream",
     "text": [
      "Максимальное значение упоминаний вакансий:  18522\n",
      "Среднее значение упоминаний вакансий:  29.111427447601567\n",
      "Минимальное значение упоминаний вакансий:  1\n",
      "Количество уникальных вакансий:  160167\n"
     ]
    }
   ],
   "source": [
    "vacancy_ids = data['vacancy_id_']\n",
    "  \n",
    "#Подсчет количества упоминаний вакансий:\n",
    "vacancy_ids_count=np.unique (np.asarray(vacancy_ids), return_counts= True )\n",
    "\n",
    "print('Максимальное значение упоминаний вакансий: ', vacancy_ids_count[1].max())\n",
    "print('Среднее значение упоминаний вакансий: ', np.average(vacancy_ids_count[1]))\n",
    "print('Минимальное значение упоминаний вакансий: ', vacancy_ids_count[1].min())\n",
    "print('Количество уникальных вакансий: ', len(vacancy_ids_count[1]))\n",
    "\n"
   ]
  },
  {
   "cell_type": "code",
   "execution_count": 5,
   "id": "e359b723",
   "metadata": {},
   "outputs": [],
   "source": [
    "df=data.groupby('user_id')['vacancy_id_']. nunique ()\n",
    "\n",
    "data=data.loc[data['user_id'].isin(list(df[(df>=5) & (df<5000)].index))]"
   ]
  },
  {
   "cell_type": "code",
   "execution_count": 6,
   "id": "60c352da",
   "metadata": {},
   "outputs": [
    {
     "name": "stdout",
     "output_type": "stream",
     "text": [
      "Максимальное значение упоминаний вакансий:  18497\n",
      "Среднее значение упоминаний вакансий:  29.098250521347136\n",
      "Минимальное значение упоминаний вакансий:  1\n",
      "Количество уникальных вакансий:  160162\n"
     ]
    }
   ],
   "source": [
    "vacancy_ids = data['vacancy_id_']\n",
    "  \n",
    "#Подсчет количества упоминаний вакансий:\n",
    "vacancy_ids_count=np.unique (np.asarray(vacancy_ids), return_counts= True )\n",
    "\n",
    "print('Максимальное значение упоминаний вакансий: ', vacancy_ids_count[1].max())\n",
    "print('Среднее значение упоминаний вакансий: ', np.average(vacancy_ids_count[1]))\n",
    "print('Минимальное значение упоминаний вакансий: ', vacancy_ids_count[1].min())\n",
    "print('Количество уникальных вакансий: ', len(vacancy_ids_count[1]))"
   ]
  },
  {
   "cell_type": "code",
   "execution_count": 7,
   "id": "da175a29",
   "metadata": {},
   "outputs": [],
   "source": [
    "reader = Reader(rating_scale=(0, 10))\n",
    "data_ = Dataset.load_from_df(data[['user_id','vacancy_id_', 'rating']], reader)"
   ]
  },
  {
   "cell_type": "code",
   "execution_count": 10,
   "id": "901eac97",
   "metadata": {},
   "outputs": [
    {
     "name": "stdout",
     "output_type": "stream",
     "text": [
      "Using ALS\n",
      "Estimating biases using als...\n",
      "Estimating biases using als...\n",
      "Estimating biases using als...\n",
      "Estimating biases using als...\n",
      "Estimating biases using als...\n"
     ]
    },
    {
     "data": {
      "text/plain": [
       "{'test_rmse': array([2.89645861, 2.89822109, 2.89776584, 2.90305428, 2.89271569]),\n",
       " 'test_mae': array([1.95999666, 1.96174128, 1.96074667, 1.96446073, 1.95885255]),\n",
       " 'fit_time': (12.256006717681885,\n",
       "  15.482001781463623,\n",
       "  15.172055006027222,\n",
       "  14.808998823165894,\n",
       "  15.07599925994873),\n",
       " 'test_time': (9.3660249710083,\n",
       "  8.67099928855896,\n",
       "  9.714027404785156,\n",
       "  8.07599949836731,\n",
       "  10.087000131607056)}"
      ]
     },
     "execution_count": 10,
     "metadata": {},
     "output_type": "execute_result"
    }
   ],
   "source": [
    "print('Using ALS')\n",
    "bsl_options = {'method': 'als', \n",
    "               'n_epochs': 5,\n",
    "               'reg_u': 12,\n",
    "               'reg_i': 5\n",
    "               }\n",
    "algo = BaselineOnly(bsl_options=bsl_options)\n",
    "cross_validate(algo, data_, measures=['RMSE', 'MAE'], cv=5, verbose=False)"
   ]
  },
  {
   "cell_type": "code",
   "execution_count": 11,
   "id": "b45cce44",
   "metadata": {},
   "outputs": [
    {
     "name": "stdout",
     "output_type": "stream",
     "text": [
      "Estimating biases using als...\n",
      "Estimating biases using als...\n",
      "Estimating biases using als...\n",
      "Estimating biases using als...\n",
      "Estimating biases using als...\n",
      "Estimating biases using als...\n",
      "Estimating biases using als...\n",
      "Estimating biases using als...\n",
      "Estimating biases using als...\n",
      "Estimating biases using als...\n",
      "Estimating biases using als...\n",
      "Estimating biases using als...\n",
      "Estimating biases using als...\n",
      "Estimating biases using als...\n",
      "Estimating biases using als...\n",
      "Estimating biases using als...\n",
      "Estimating biases using als...\n",
      "Estimating biases using als...\n",
      "Estimating biases using als...\n",
      "Estimating biases using als...\n",
      "Estimating biases using als...\n",
      "Estimating biases using als...\n",
      "Estimating biases using als...\n",
      "Estimating biases using als...\n",
      "Estimating biases using als...\n",
      "Estimating biases using als...\n",
      "Estimating biases using als...\n",
      "Estimating biases using als...\n",
      "Estimating biases using als...\n",
      "Estimating biases using als...\n",
      "Estimating biases using als...\n",
      "Estimating biases using als...\n",
      "Estimating biases using als...\n",
      "Estimating biases using als...\n",
      "Estimating biases using als...\n",
      "Estimating biases using als...\n",
      "Estimating biases using als...\n",
      "Estimating biases using als...\n",
      "Estimating biases using als...\n",
      "Estimating biases using als...\n",
      "Estimating biases using als...\n",
      "Estimating biases using als...\n",
      "Estimating biases using als...\n",
      "Estimating biases using als...\n",
      "Estimating biases using als...\n",
      "Estimating biases using als...\n",
      "Estimating biases using als...\n",
      "Estimating biases using als...\n",
      "Estimating biases using als...\n",
      "Estimating biases using als...\n",
      "Estimating biases using als...\n",
      "Estimating biases using als...\n",
      "Estimating biases using als...\n",
      "Estimating biases using als...\n",
      "Estimating biases using sgd...\n",
      "Estimating biases using sgd...\n",
      "Estimating biases using sgd...\n",
      "Estimating biases using sgd...\n",
      "Estimating biases using sgd...\n",
      "Estimating biases using sgd...\n",
      "Estimating biases using sgd...\n",
      "Estimating biases using sgd...\n",
      "Estimating biases using sgd...\n",
      "Estimating biases using sgd...\n",
      "Estimating biases using sgd...\n",
      "Estimating biases using sgd...\n",
      "Estimating biases using sgd...\n",
      "Estimating biases using sgd...\n",
      "Estimating biases using sgd...\n",
      "Estimating biases using sgd...\n",
      "Estimating biases using sgd...\n",
      "Estimating biases using sgd...\n",
      "Estimating biases using sgd...\n",
      "Estimating biases using sgd...\n",
      "Estimating biases using sgd...\n",
      "Estimating biases using sgd...\n",
      "Estimating biases using sgd...\n",
      "Estimating biases using sgd...\n",
      "Estimating biases using sgd...\n",
      "Estimating biases using sgd...\n",
      "Estimating biases using sgd...\n",
      "Estimating biases using sgd...\n",
      "Estimating biases using sgd...\n",
      "Estimating biases using sgd...\n",
      "Estimating biases using sgd...\n",
      "Estimating biases using sgd...\n",
      "Estimating biases using sgd...\n",
      "Estimating biases using sgd...\n",
      "Estimating biases using sgd...\n",
      "Estimating biases using sgd...\n",
      "Estimating biases using sgd...\n",
      "Estimating biases using sgd...\n",
      "Estimating biases using sgd...\n",
      "Estimating biases using sgd...\n",
      "Estimating biases using sgd...\n",
      "Estimating biases using sgd...\n",
      "Estimating biases using sgd...\n",
      "Estimating biases using sgd...\n",
      "Estimating biases using sgd...\n",
      "Estimating biases using sgd...\n",
      "Estimating biases using sgd...\n",
      "Estimating biases using sgd...\n",
      "Estimating biases using sgd...\n",
      "Estimating biases using sgd...\n",
      "Estimating biases using sgd...\n",
      "Estimating biases using sgd...\n",
      "Estimating biases using sgd...\n",
      "Estimating biases using sgd...\n",
      "Best RMSE: 2.9281838458422915 {'bsl_options': {'method': 'als', 'reg': 1, 'learning_rate': 0.01, 'n_epochs': 15}}\n",
      "Best MAE: 1.9918325601289972 {'bsl_options': {'method': 'sgd', 'reg': 1, 'learning_rate': 0.05, 'n_epochs': 15}}\n"
     ]
    }
   ],
   "source": [
    "param_gridBO = {'bsl_options': {'method': ['als', 'sgd'],\n",
    "        'reg': [1, 2],\n",
    "        'learning_rate': [0.01, 0.05, 0.0025],\n",
    "        'n_epochs': [5, 10, 15]}\n",
    "        }\n",
    "gsBO = GridSearchCV(BaselineOnly, param_gridBO, measures=['rmse', 'mae'], cv=3)\n",
    "\n",
    "\n",
    "gsBO.fit(data_)\n",
    "\n",
    "\n",
    "print('Best RMSE:', gsBO.best_score['rmse'], gsBO.best_params['rmse'])\n",
    "print('Best MAE:', gsBO.best_score['mae'], gsBO.best_params['mae'])"
   ]
  },
  {
   "cell_type": "code",
   "execution_count": 19,
   "id": "f9890199",
   "metadata": {},
   "outputs": [
    {
     "name": "stdout",
     "output_type": "stream",
     "text": [
      "Estimating biases using als...\n",
      "RMSE: 2.9010\n"
     ]
    },
    {
     "data": {
      "text/plain": [
       "2.9009843045116765"
      ]
     },
     "execution_count": 19,
     "metadata": {},
     "output_type": "execute_result"
    }
   ],
   "source": [
    "bsl_options = {'method': 'als', \n",
    "               'learning_rate': 0.01,\n",
    "               'n_epochs': 15,\n",
    "               'reg_u': 12,\n",
    "               'reg_i': 5\n",
    "               }\n",
    "\n",
    "trainset, testset = train_test_split(data_, test_size=0.25)\n",
    "algo = BaselineOnly(bsl_options=bsl_options)\n",
    "predictions = algo.fit(trainset).test(testset)\n",
    "accuracy.rmse(predictions)"
   ]
  },
  {
   "cell_type": "code",
   "execution_count": 20,
   "id": "ca26615b",
   "metadata": {},
   "outputs": [
    {
     "name": "stdout",
     "output_type": "stream",
     "text": [
      "MAE:  1.9661\n"
     ]
    },
    {
     "data": {
      "text/plain": [
       "1.9661130691244404"
      ]
     },
     "execution_count": 20,
     "metadata": {},
     "output_type": "execute_result"
    }
   ],
   "source": [
    "accuracy.mae(predictions)"
   ]
  },
  {
   "cell_type": "code",
   "execution_count": 21,
   "id": "46859a40",
   "metadata": {},
   "outputs": [
    {
     "name": "stdout",
     "output_type": "stream",
     "text": [
      "Estimating biases using als...\n"
     ]
    },
    {
     "data": {
      "text/plain": [
       "<surprise.prediction_algorithms.baseline_only.BaselineOnly at 0x1d41681da90>"
      ]
     },
     "execution_count": 21,
     "metadata": {},
     "output_type": "execute_result"
    }
   ],
   "source": [
    "trainset = data_.build_full_trainset()\n",
    "algo.fit(trainset)"
   ]
  },
  {
   "cell_type": "code",
   "execution_count": 22,
   "id": "077ff23e",
   "metadata": {},
   "outputs": [
    {
     "name": "stdout",
     "output_type": "stream",
     "text": [
      "RMSE: 2.7152\n"
     ]
    },
    {
     "data": {
      "text/plain": [
       "2.715205934879582"
      ]
     },
     "execution_count": 22,
     "metadata": {},
     "output_type": "execute_result"
    }
   ],
   "source": [
    "predictions = algo.test(testset)\n",
    "accuracy.rmse(predictions)"
   ]
  },
  {
   "cell_type": "code",
   "execution_count": 23,
   "id": "f3bca358",
   "metadata": {},
   "outputs": [
    {
     "name": "stdout",
     "output_type": "stream",
     "text": [
      "MAE:  1.8269\n"
     ]
    },
    {
     "data": {
      "text/plain": [
       "1.8269302159729768"
      ]
     },
     "execution_count": 23,
     "metadata": {},
     "output_type": "execute_result"
    }
   ],
   "source": [
    "accuracy.mae(predictions)"
   ]
  },
  {
   "cell_type": "code",
   "execution_count": 24,
   "id": "b9e52d9d",
   "metadata": {},
   "outputs": [],
   "source": [
    "# save the model to disk\n",
    "dump.dump('./dump_file', predictions, algo)"
   ]
  },
  {
   "cell_type": "code",
   "execution_count": 25,
   "id": "fd6775f1",
   "metadata": {},
   "outputs": [],
   "source": [
    "#Load the model from disk\n",
    "predictions, algo = dump.load('./dump_file')"
   ]
  },
  {
   "cell_type": "markdown",
   "id": "10d7df70",
   "metadata": {},
   "source": [
    "Проверка на тест данных"
   ]
  },
  {
   "cell_type": "code",
   "execution_count": 26,
   "id": "fa549857",
   "metadata": {},
   "outputs": [
    {
     "data": {
      "text/html": [
       "<div>\n",
       "<style scoped>\n",
       "    .dataframe tbody tr th:only-of-type {\n",
       "        vertical-align: middle;\n",
       "    }\n",
       "\n",
       "    .dataframe tbody tr th {\n",
       "        vertical-align: top;\n",
       "    }\n",
       "\n",
       "    .dataframe thead th {\n",
       "        text-align: right;\n",
       "    }\n",
       "</style>\n",
       "<table border=\"1\" class=\"dataframe\">\n",
       "  <thead>\n",
       "    <tr style=\"text-align: right;\">\n",
       "      <th></th>\n",
       "      <th>cookie_id</th>\n",
       "      <th>vacancy_id_</th>\n",
       "      <th>user_id</th>\n",
       "      <th>list_vacansy_user_saw</th>\n",
       "      <th>all_vacansy_saw_same_user</th>\n",
       "    </tr>\n",
       "  </thead>\n",
       "  <tbody>\n",
       "    <tr>\n",
       "      <th>0</th>\n",
       "      <td>000cd76cd33f43d4a1ac1d16d10f8bf7</td>\n",
       "      <td>[222177, 222173, 222163, 238874, 238878, 22812...</td>\n",
       "      <td>477e719bfbcc4071a8acc1b357492b00</td>\n",
       "      <td>{189576, 156688, 114834, 104082, 213013, 13442...</td>\n",
       "      <td>{131073, 131079, 131081, 131085, 131087, 13108...</td>\n",
       "    </tr>\n",
       "    <tr>\n",
       "      <th>1</th>\n",
       "      <td>0034bc7f404341ba8412665453e7825a</td>\n",
       "      <td>[102794, 137587, 257319, 237756, 240744, 11348...</td>\n",
       "      <td>753a2a268ae84ab49475e62736c02860</td>\n",
       "      <td>{240258, 176398, 195726, 116494, 139539, 21698...</td>\n",
       "      <td>{100001, 100002, 100003, 100006, 100007, 10000...</td>\n",
       "    </tr>\n",
       "    <tr>\n",
       "      <th>2</th>\n",
       "      <td>00a6c5a64a274c55a836402bdeb3b2c4</td>\n",
       "      <td>[254292, 164602, 116438, 228634, 218819, 24065...</td>\n",
       "      <td>d01c76b282364fbb8195f326de3e893c</td>\n",
       "      <td>{195716, 141447, 191628, 206350, 117520, 25652...</td>\n",
       "      <td>{100001, 100002, 100003, 100006, 100007, 10000...</td>\n",
       "    </tr>\n",
       "    <tr>\n",
       "      <th>3</th>\n",
       "      <td>015937a125b14e74bdff1cddc49f9172</td>\n",
       "      <td>[246685, 138123, 115420, 210628, 212325, 235196]</td>\n",
       "      <td>6adb4495090b454395d5aa2f1a5ff9d9</td>\n",
       "      <td>{187652, 248331, 203404, 184726, 180382, 15824...</td>\n",
       "      <td>{100001, 100002, 100003, 100005, 100006, 10000...</td>\n",
       "    </tr>\n",
       "    <tr>\n",
       "      <th>4</th>\n",
       "      <td>01de50c280794cec8804f16f45f847b7</td>\n",
       "      <td>[219070, 251469, 166899, 212703, 214561]</td>\n",
       "      <td>b107696e3ff54e8a83182828bb845bc6</td>\n",
       "      <td>{167168, 148864, 254087, 153353, 101389, 11726...</td>\n",
       "      <td>{131073, 131079, 131081, 131082, 131088, 13108...</td>\n",
       "    </tr>\n",
       "    <tr>\n",
       "      <th>...</th>\n",
       "      <td>...</td>\n",
       "      <td>...</td>\n",
       "      <td>...</td>\n",
       "      <td>...</td>\n",
       "      <td>...</td>\n",
       "    </tr>\n",
       "    <tr>\n",
       "      <th>767</th>\n",
       "      <td>fdbcda17f22f406486837059e76c7fed</td>\n",
       "      <td>[207851, 254989, 213344, 214180, 222146]</td>\n",
       "      <td>da74810d481449278a75a091178f9831</td>\n",
       "      <td>{229314, 212971, 103567, 170333, 243294}</td>\n",
       "      <td>{196609, 196611, 229382, 196626, 196628, 22940...</td>\n",
       "    </tr>\n",
       "    <tr>\n",
       "      <th>768</th>\n",
       "      <td>fe6193ab26494ace9be5aae36e507618</td>\n",
       "      <td>[115352, 230546, 225527, 120188, 109360, 23212...</td>\n",
       "      <td>4da39c1e048d49cabcd1229fdcc6413f</td>\n",
       "      <td>{181381, 140678, 108295, 198407, 253194, 21287...</td>\n",
       "      <td>{131074, 131085, 131088, 131122, 131135, 13114...</td>\n",
       "    </tr>\n",
       "    <tr>\n",
       "      <th>769</th>\n",
       "      <td>fe95b2826ee1452b81201ed3f4c3294d</td>\n",
       "      <td>[240362, 114852, 253946, 251081, 127546, 244688]</td>\n",
       "      <td>5207e9855ec54e02aa8cfa48ede76e1b</td>\n",
       "      <td>{219841, 119075, 208350, 244646, 109990, 19575...</td>\n",
       "      <td>{131073, 131074, 131077, 131078, 131079, 13108...</td>\n",
       "    </tr>\n",
       "    <tr>\n",
       "      <th>770</th>\n",
       "      <td>ff1aef256a49481698bb2e938510ff36</td>\n",
       "      <td>[231194, 236363, 220747, 244688, 100094, 24052...</td>\n",
       "      <td>7f2067ab30994440b13a0ea37a5e8001</td>\n",
       "      <td>{102794, 117134, 217615, 236821, 130587, 23403...</td>\n",
       "      <td>{131073, 131074, 131081, 131085, 131088, 13108...</td>\n",
       "    </tr>\n",
       "    <tr>\n",
       "      <th>771</th>\n",
       "      <td>ff40591f76e34013a61b8af400002a07</td>\n",
       "      <td>[100336, 116442, 244721, 256719, 230803]</td>\n",
       "      <td>ff40591f76e34013a61b8af400002a07</td>\n",
       "      <td>{253761, 217089, 215652, 221670, 204968, 25920...</td>\n",
       "      <td>{253956, 155652, 122885, 122887, 106504, 12288...</td>\n",
       "    </tr>\n",
       "  </tbody>\n",
       "</table>\n",
       "<p>772 rows × 5 columns</p>\n",
       "</div>"
      ],
      "text/plain": [
       "                            cookie_id  \\\n",
       "0    000cd76cd33f43d4a1ac1d16d10f8bf7   \n",
       "1    0034bc7f404341ba8412665453e7825a   \n",
       "2    00a6c5a64a274c55a836402bdeb3b2c4   \n",
       "3    015937a125b14e74bdff1cddc49f9172   \n",
       "4    01de50c280794cec8804f16f45f847b7   \n",
       "..                                ...   \n",
       "767  fdbcda17f22f406486837059e76c7fed   \n",
       "768  fe6193ab26494ace9be5aae36e507618   \n",
       "769  fe95b2826ee1452b81201ed3f4c3294d   \n",
       "770  ff1aef256a49481698bb2e938510ff36   \n",
       "771  ff40591f76e34013a61b8af400002a07   \n",
       "\n",
       "                                           vacancy_id_  \\\n",
       "0    [222177, 222173, 222163, 238874, 238878, 22812...   \n",
       "1    [102794, 137587, 257319, 237756, 240744, 11348...   \n",
       "2    [254292, 164602, 116438, 228634, 218819, 24065...   \n",
       "3     [246685, 138123, 115420, 210628, 212325, 235196]   \n",
       "4             [219070, 251469, 166899, 212703, 214561]   \n",
       "..                                                 ...   \n",
       "767           [207851, 254989, 213344, 214180, 222146]   \n",
       "768  [115352, 230546, 225527, 120188, 109360, 23212...   \n",
       "769   [240362, 114852, 253946, 251081, 127546, 244688]   \n",
       "770  [231194, 236363, 220747, 244688, 100094, 24052...   \n",
       "771           [100336, 116442, 244721, 256719, 230803]   \n",
       "\n",
       "                              user_id  \\\n",
       "0    477e719bfbcc4071a8acc1b357492b00   \n",
       "1    753a2a268ae84ab49475e62736c02860   \n",
       "2    d01c76b282364fbb8195f326de3e893c   \n",
       "3    6adb4495090b454395d5aa2f1a5ff9d9   \n",
       "4    b107696e3ff54e8a83182828bb845bc6   \n",
       "..                                ...   \n",
       "767  da74810d481449278a75a091178f9831   \n",
       "768  4da39c1e048d49cabcd1229fdcc6413f   \n",
       "769  5207e9855ec54e02aa8cfa48ede76e1b   \n",
       "770  7f2067ab30994440b13a0ea37a5e8001   \n",
       "771  ff40591f76e34013a61b8af400002a07   \n",
       "\n",
       "                                 list_vacansy_user_saw  \\\n",
       "0    {189576, 156688, 114834, 104082, 213013, 13442...   \n",
       "1    {240258, 176398, 195726, 116494, 139539, 21698...   \n",
       "2    {195716, 141447, 191628, 206350, 117520, 25652...   \n",
       "3    {187652, 248331, 203404, 184726, 180382, 15824...   \n",
       "4    {167168, 148864, 254087, 153353, 101389, 11726...   \n",
       "..                                                 ...   \n",
       "767           {229314, 212971, 103567, 170333, 243294}   \n",
       "768  {181381, 140678, 108295, 198407, 253194, 21287...   \n",
       "769  {219841, 119075, 208350, 244646, 109990, 19575...   \n",
       "770  {102794, 117134, 217615, 236821, 130587, 23403...   \n",
       "771  {253761, 217089, 215652, 221670, 204968, 25920...   \n",
       "\n",
       "                             all_vacansy_saw_same_user  \n",
       "0    {131073, 131079, 131081, 131085, 131087, 13108...  \n",
       "1    {100001, 100002, 100003, 100006, 100007, 10000...  \n",
       "2    {100001, 100002, 100003, 100006, 100007, 10000...  \n",
       "3    {100001, 100002, 100003, 100005, 100006, 10000...  \n",
       "4    {131073, 131079, 131081, 131082, 131088, 13108...  \n",
       "..                                                 ...  \n",
       "767  {196609, 196611, 229382, 196626, 196628, 22940...  \n",
       "768  {131074, 131085, 131088, 131122, 131135, 13114...  \n",
       "769  {131073, 131074, 131077, 131078, 131079, 13108...  \n",
       "770  {131073, 131074, 131081, 131085, 131088, 13108...  \n",
       "771  {253956, 155652, 122885, 122887, 106504, 12288...  \n",
       "\n",
       "[772 rows x 5 columns]"
      ]
     },
     "execution_count": 26,
     "metadata": {},
     "output_type": "execute_result"
    }
   ],
   "source": [
    "test_public_mfti=pd.read_pickle('test_public_mfti_add_all_vacansy_saw_same_user.pickle')\n",
    "test_public_mfti"
   ]
  },
  {
   "cell_type": "code",
   "execution_count": 27,
   "id": "17e6d1e9",
   "metadata": {},
   "outputs": [],
   "source": [
    "def generate_recommendation(model, user_id_, vacancy_ids_to_pred, n_items):\n",
    "\n",
    "\n",
    "    test_set = [[user_id_, vacancy_id, 0] for vacancy_id in vacancy_ids_to_pred]\n",
    "\n",
    "\n",
    "\n",
    "    #предсказание\n",
    "    predictions = model.test(test_set)\n",
    "\n",
    "\n",
    "    #топ n лучшие вакансии на основе предсказанных рейтингов\n",
    "    pred_ratings = np.array([pred.est for pred in predictions])\n",
    "\n",
    "    \n",
    "    index_max = (-pred_ratings).argsort()[:n_items]\n",
    "\n",
    "    return vacancy_ids_to_pred[index_max]"
   ]
  },
  {
   "cell_type": "code",
   "execution_count": 31,
   "id": "0bcbb25a",
   "metadata": {},
   "outputs": [
    {
     "name": "stderr",
     "output_type": "stream",
     "text": [
      "100%|██████████| 772/772 [15:33<00:00,  1.21s/it]\n"
     ]
    }
   ],
   "source": [
    "list_5=[]\n",
    "list_10=[]\n",
    "for i in tqdm(range(len(test_public_mfti))):\n",
    "    user_id=test_public_mfti.user_id[i]\n",
    "    vacancy_ids_to_pred = np.array(list(set(vacancy_ids_count[0]) & \n",
    "                                        (test_public_mfti.all_vacansy_saw_same_user[i]-test_public_mfti.list_vacansy_user_saw[i])))\n",
    "    \n",
    "    n_items=5\n",
    "    list_5.append(generate_recommendation(algo,user_id,vacancy_ids_to_pred,n_items))\n",
    "   \n",
    "    n_items=10\n",
    "    list_10.append(generate_recommendation(algo,user_id,vacancy_ids_to_pred,n_items))"
   ]
  },
  {
   "cell_type": "code",
   "execution_count": 32,
   "id": "e4b71f0c",
   "metadata": {},
   "outputs": [],
   "source": [
    "test_public_mfti['5']=list_5\n",
    "test_public_mfti['10']=list_10\n",
    "\n",
    "test_public_mfti['inter_5']=[len(set(i) & set(j)) for i,j in zip(test_public_mfti['5'], test_public_mfti.vacancy_id_)]\n",
    "test_public_mfti['inter_10']=[len(set(i) & set(j)) for i,j in zip(test_public_mfti['10'], test_public_mfti.vacancy_id_)]"
   ]
  },
  {
   "cell_type": "code",
   "execution_count": 33,
   "id": "014d78ea",
   "metadata": {},
   "outputs": [
    {
     "data": {
      "text/plain": [
       "0"
      ]
     },
     "execution_count": 33,
     "metadata": {},
     "output_type": "execute_result"
    }
   ],
   "source": [
    "sum(test_public_mfti['inter_5'])"
   ]
  },
  {
   "cell_type": "code",
   "execution_count": 34,
   "id": "93de5242",
   "metadata": {},
   "outputs": [
    {
     "data": {
      "text/plain": [
       "4"
      ]
     },
     "execution_count": 34,
     "metadata": {},
     "output_type": "execute_result"
    }
   ],
   "source": [
    "sum(test_public_mfti['inter_10'])"
   ]
  },
  {
   "cell_type": "code",
   "execution_count": null,
   "id": "a06d98d3",
   "metadata": {},
   "outputs": [],
   "source": []
  }
 ],
 "metadata": {
  "kernelspec": {
   "display_name": "Python 3 (ipykernel)",
   "language": "python",
   "name": "python3"
  },
  "language_info": {
   "codemirror_mode": {
    "name": "ipython",
    "version": 3
   },
   "file_extension": ".py",
   "mimetype": "text/x-python",
   "name": "python",
   "nbconvert_exporter": "python",
   "pygments_lexer": "ipython3",
   "version": "3.9.13"
  }
 },
 "nbformat": 4,
 "nbformat_minor": 5
}
